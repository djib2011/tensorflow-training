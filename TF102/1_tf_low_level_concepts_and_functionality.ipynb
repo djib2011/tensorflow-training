{
 "cells": [
  {
   "cell_type": "markdown",
   "metadata": {
    "colab_type": "text",
    "id": "fKCSJOez9Tx4"
   },
   "source": [
    "# 1. TensorFlow low-level concepts and functionality\n",
    "\n",
    "In TF101 we mainly saw TensorFlow through the lens of Keras, its high-level API. We learned how we can define models, customize their architecture, train them and monitor their performance. However, we've seen very little of the actual library. Here we will attempt to dig a bit deeper into TensorFlow, expore its basic concepts and see how we can achieve an even higher degree of customization and flexibility.\n",
    "\n",
    "In the first notebook will focus on the following topics:\n",
    "1. Low-level TensorFlow operations.\n",
    "2. Computational graphs. What are they and what do they have to do with TensorFlow?\n",
    "3. Eager vs graph mode.\n",
    "4. Automatic differentiation with AutoGrad."
   ]
  },
  {
   "cell_type": "code",
   "execution_count": 29,
   "metadata": {
    "colab": {},
    "colab_type": "code",
    "id": "7sP4l6DvOfJN"
   },
   "outputs": [],
   "source": [
    "import tensorflow as tf\n",
    "assert tf.__version__[0] == '2', 'this tutorial is for tensorflow versions of 2 or higher'\n",
    "\n",
    "import time\n",
    "import numpy as np\n",
    "import matplotlib.pyplot as plt\n",
    "%matplotlib inline"
   ]
  },
  {
   "cell_type": "markdown",
   "metadata": {
    "colab_type": "text",
    "id": "7a7JY6hPZIJK"
   },
   "source": [
    "## Part 1. Low-level TensorFlow operations\n",
    "\n",
    "TensorFlow can be more accurately described as a **symbolic math library**. This means that it essentially defines a series of data types and operations, through which we then define and train our Neural Networks. These are in the core of every one of TensorFlow's functionalities, including Keras.\n",
    "\n",
    "### Basic data types\n",
    "\n",
    "TensorFlow's basic data type is called a **tensor**. A [tensor](https://en.wikipedia.org/wiki/Tensor) in mathematics is essentially an object with more than $2$ dimensions. We've seen this concept before, but with a [different name](https://docs.scipy.org/doc/numpy-1.13.0/reference/generated/numpy.ndarray.html). A tensor can have as many dimensions as we wish; One with $0$ dimensions can be called a scalar, with $1$ dimensions it is a vector and $2$ dimensions make it a matrix.\n",
    "\n",
    "From a data structure point of view, TensorFlow's tensors are very much like numpy's ndarrays. The main differences are that tensors are much harder to work with, as they lack much of the functionality of numpy arrays (built-in methods, seamlessly working with core python functions, etc.) and the fact that they can be used for TensorFlow operations (where as numpy arrays can't).\n",
    "\n",
    "There are two main tensor types, a Variable and a constant. The most important difference between the two are that the latter is immutable."
   ]
  },
  {
   "cell_type": "code",
   "execution_count": 3,
   "metadata": {
    "colab": {
     "base_uri": "https://localhost:8080/",
     "height": 68
    },
    "colab_type": "code",
    "executionInfo": {
     "elapsed": 1699,
     "status": "ok",
     "timestamp": 1581701185928,
     "user": {
      "displayName": "Thanos Tagaris",
      "photoUrl": "",
      "userId": "11094556072874949144"
     },
     "user_tz": -120
    },
    "id": "QqoZ1q5QOjNZ",
    "outputId": "9f2f7bd9-92bd-40fa-f5a4-26d7fdbb8d61",
    "scrolled": true
   },
   "outputs": [
    {
     "name": "stdout",
     "output_type": "stream",
     "text": [
      "tf.Tensor([1 2 3 4 5], shape=(5,), dtype=int32)\n",
      "<tf.Variable 'Variable:0' shape=(5,) dtype=int32, numpy=array([4, 5, 6, 7, 8], dtype=int32)>\n"
     ]
    },
    {
     "name": "stderr",
     "output_type": "stream",
     "text": [
      "2023-04-15 20:18:58.081004: W tensorflow/compiler/xla/stream_executor/platform/default/dso_loader.cc:64] Could not load dynamic library 'libcuda.so.1'; dlerror: libcuda.so.1: cannot open shared object file: No such file or directory\n",
      "2023-04-15 20:18:58.081623: W tensorflow/compiler/xla/stream_executor/cuda/cuda_driver.cc:265] failed call to cuInit: UNKNOWN ERROR (303)\n",
      "2023-04-15 20:18:58.081694: I tensorflow/compiler/xla/stream_executor/cuda/cuda_diagnostics.cc:156] kernel driver does not appear to be running on this host (home): /proc/driver/nvidia/version does not exist\n",
      "2023-04-15 20:18:58.085408: I tensorflow/core/platform/cpu_feature_guard.cc:193] This TensorFlow binary is optimized with oneAPI Deep Neural Network Library (oneDNN) to use the following CPU instructions in performance-critical operations:  AVX2 FMA\n",
      "To enable them in other operations, rebuild TensorFlow with the appropriate compiler flags.\n"
     ]
    },
    {
     "data": {
      "text/plain": [
       "(None, None)"
      ]
     },
     "execution_count": 3,
     "metadata": {},
     "output_type": "execute_result"
    }
   ],
   "source": [
    "a = tf.constant([1, 2, 3, 4, 5])\n",
    "b = tf.Variable([4, 5, 6, 7, 8])\n",
    "print(a), print(b)"
   ]
  },
  {
   "cell_type": "markdown",
   "metadata": {
    "colab_type": "text",
    "id": "grmm79S9duFM"
   },
   "source": [
    "TensorFlow has its [own datatypes](https://www.tensorflow.org/api_docs/python/tf/dtypes), most of which should be very familiar. We can select the data type of any tensor duting instantiation."
   ]
  },
  {
   "cell_type": "code",
   "execution_count": 4,
   "metadata": {
    "colab": {},
    "colab_type": "code",
    "id": "kRlOfUYReF_A"
   },
   "outputs": [
    {
     "data": {
      "text/plain": [
       "<tf.Tensor: shape=(5,), dtype=float32, numpy=array([1., 2., 3., 4., 5.], dtype=float32)>"
      ]
     },
     "execution_count": 4,
     "metadata": {},
     "output_type": "execute_result"
    }
   ],
   "source": [
    "a = tf.constant([1, 2, 3, 4, 5], dtype=tf.float32)\n",
    "a"
   ]
  },
  {
   "cell_type": "markdown",
   "metadata": {
    "colab_type": "text",
    "id": "fi_W-1H7fZ-F"
   },
   "source": [
    "It is also possible to change the dtype of a tensor by casting it to another. "
   ]
  },
  {
   "cell_type": "code",
   "execution_count": 7,
   "metadata": {
    "colab": {},
    "colab_type": "code",
    "id": "J17uGYBofily"
   },
   "outputs": [
    {
     "name": "stdout",
     "output_type": "stream",
     "text": [
      "<dtype: 'float32'>\n",
      "<dtype: 'int64'>\n"
     ]
    }
   ],
   "source": [
    "print(a.dtype)\n",
    "a = tf.cast(a, tf.int64)\n",
    "print(a.dtype)"
   ]
  },
  {
   "cell_type": "markdown",
   "metadata": {
    "colab_type": "text",
    "id": "CXIKAPHBeMEO"
   },
   "source": [
    "Another way to create a tensor is to initialize it from an array or any other python iterable (list, typle, etc.)."
   ]
  },
  {
   "cell_type": "code",
   "execution_count": 8,
   "metadata": {
    "colab": {
     "base_uri": "https://localhost:8080/",
     "height": 85
    },
    "colab_type": "code",
    "executionInfo": {
     "elapsed": 1415,
     "status": "ok",
     "timestamp": 1581701185935,
     "user": {
      "displayName": "Thanos Tagaris",
      "photoUrl": "",
      "userId": "11094556072874949144"
     },
     "user_tz": -120
    },
    "id": "77-JVMbEOkzn",
    "outputId": "e34c38e1-05a0-4ae9-ad11-dc0e6acef0e9"
   },
   "outputs": [
    {
     "data": {
      "text/plain": [
       "<tf.Tensor: shape=(3, 3), dtype=int64, numpy=\n",
       "array([[0, 3, 6],\n",
       "       [1, 4, 7],\n",
       "       [2, 5, 8]])>"
      ]
     },
     "execution_count": 8,
     "metadata": {},
     "output_type": "execute_result"
    }
   ],
   "source": [
    "arr = np.arange(9).reshape((3, 3))\n",
    "t1 = tf.convert_to_tensor(arr)\n",
    "t2 = tf.convert_to_tensor(arr.T)\n",
    "t2"
   ]
  },
  {
   "cell_type": "markdown",
   "metadata": {
    "colab_type": "text",
    "id": "Mbxk3-72IWtr"
   },
   "source": [
    "Two other ways to initialize tensors are [`tf.zeros`](https://www.tensorflow.org/api_docs/python/tf/zeros) and [`tf.ones`](https://www.tensorflow.org/api_docs/python/tf/ones), which create tensors containing $0$s and $1$s respectively, with the given shape. These mimic [`numpy.zeros`](https://numpy.org/doc/1.18/reference/generated/numpy.zeros.html) and [`numpy.ones`](https://numpy.org/doc/1.18/reference/generated/numpy.ones.html)."
   ]
  },
  {
   "cell_type": "code",
   "execution_count": 9,
   "metadata": {
    "colab": {
     "base_uri": "https://localhost:8080/",
     "height": 272
    },
    "colab_type": "code",
    "executionInfo": {
     "elapsed": 782,
     "status": "ok",
     "timestamp": 1581701185946,
     "user": {
      "displayName": "Thanos Tagaris",
      "photoUrl": "",
      "userId": "11094556072874949144"
     },
     "user_tz": -120
    },
    "id": "3P4xkmByJ8um",
    "outputId": "040eef84-e7aa-40c5-9387-77f67be9db0a"
   },
   "outputs": [
    {
     "data": {
      "text/plain": [
       "<tf.Tensor: shape=(3, 4, 2), dtype=float32, numpy=\n",
       "array([[[0., 0.],\n",
       "        [0., 0.],\n",
       "        [0., 0.],\n",
       "        [0., 0.]],\n",
       "\n",
       "       [[0., 0.],\n",
       "        [0., 0.],\n",
       "        [0., 0.],\n",
       "        [0., 0.]],\n",
       "\n",
       "       [[0., 0.],\n",
       "        [0., 0.],\n",
       "        [0., 0.],\n",
       "        [0., 0.]]], dtype=float32)>"
      ]
     },
     "execution_count": 9,
     "metadata": {},
     "output_type": "execute_result"
    }
   ],
   "source": [
    "z = tf.zeros((3, 4, 2), dtype=tf.float32)\n",
    "z"
   ]
  },
  {
   "cell_type": "markdown",
   "metadata": {
    "colab_type": "text",
    "id": "6Pe9JGCxKQ7X"
   },
   "source": [
    "### Basic arithmetic operations\n",
    "\n",
    "Most common operations between tensors work with python's built-in operators. \n",
    "\n",
    "Note that all of these operations are performed **elementwise**."
   ]
  },
  {
   "cell_type": "code",
   "execution_count": 10,
   "metadata": {
    "colab": {
     "base_uri": "https://localhost:8080/",
     "height": 357
    },
    "colab_type": "code",
    "executionInfo": {
     "elapsed": 818,
     "status": "ok",
     "timestamp": 1581701186936,
     "user": {
      "displayName": "Thanos Tagaris",
      "photoUrl": "",
      "userId": "11094556072874949144"
     },
     "user_tz": -120
    },
    "id": "8JJJ4HzlXyaj",
    "outputId": "03c3bc5b-d89a-49b4-c01e-4c096d3bb3c4"
   },
   "outputs": [
    {
     "name": "stdout",
     "output_type": "stream",
     "text": [
      "tf.Tensor(\n",
      "[[ 0  4  8]\n",
      " [ 4  8 12]\n",
      " [ 8 12 16]], shape=(3, 3), dtype=int64)\n",
      "tf.Tensor(\n",
      "[[ 0 -2 -4]\n",
      " [ 2  0 -2]\n",
      " [ 4  2  0]], shape=(3, 3), dtype=int64)\n",
      "tf.Tensor(\n",
      "[[ 0  3 12]\n",
      " [ 3 16 35]\n",
      " [12 35 64]], shape=(3, 3), dtype=int64)\n",
      "tf.Tensor(\n",
      "[[       nan 0.33333333 0.33333333]\n",
      " [3.         1.         0.71428571]\n",
      " [3.         1.4        1.        ]], shape=(3, 3), dtype=float64)\n",
      "tf.Tensor(\n",
      "[[       1        1       64]\n",
      " [       3      256    78125]\n",
      " [      36    16807 16777216]], shape=(3, 3), dtype=int64)\n"
     ]
    }
   ],
   "source": [
    "print(t1 + t2)\n",
    "print(t1 - t2)\n",
    "print(t1 * t2)\n",
    "print(t1 / t2)\n",
    "print(t1 ** t2)"
   ]
  },
  {
   "cell_type": "markdown",
   "metadata": {
    "colab_type": "text",
    "id": "iwyNgGXrezYJ"
   },
   "source": [
    "Chaining operations is also possible."
   ]
  },
  {
   "cell_type": "code",
   "execution_count": 11,
   "metadata": {
    "colab": {
     "base_uri": "https://localhost:8080/",
     "height": 85
    },
    "colab_type": "code",
    "executionInfo": {
     "elapsed": 762,
     "status": "ok",
     "timestamp": 1581701188809,
     "user": {
      "displayName": "Thanos Tagaris",
      "photoUrl": "",
      "userId": "11094556072874949144"
     },
     "user_tz": -120
    },
    "id": "pcpuLfFsg51A",
    "outputId": "deda60cb-e7b4-4d4d-ce22-2e2991214b38"
   },
   "outputs": [
    {
     "data": {
      "text/plain": [
       "<tf.Tensor: shape=(3, 3), dtype=int64, numpy=\n",
       "array([[ 0,  4, 16],\n",
       "       [ 4,  0,  4],\n",
       "       [16,  4,  0]])>"
      ]
     },
     "execution_count": 11,
     "metadata": {},
     "output_type": "execute_result"
    }
   ],
   "source": [
    "r = (t1 - t2) ** 2\n",
    "r"
   ]
  },
  {
   "cell_type": "markdown",
   "metadata": {
    "colab_type": "text",
    "id": "0oLBbHsge5kV"
   },
   "source": [
    "To convert a tensor to a numpy array we can just use their built-in mehtod `.numpy()`."
   ]
  },
  {
   "cell_type": "code",
   "execution_count": 12,
   "metadata": {
    "colab": {
     "base_uri": "https://localhost:8080/",
     "height": 68
    },
    "colab_type": "code",
    "executionInfo": {
     "elapsed": 535,
     "status": "ok",
     "timestamp": 1581701189277,
     "user": {
      "displayName": "Thanos Tagaris",
      "photoUrl": "",
      "userId": "11094556072874949144"
     },
     "user_tz": -120
    },
    "id": "le2lvqw7h9FW",
    "outputId": "8edec23e-bffb-49fc-f492-bad28e6b2cd7"
   },
   "outputs": [
    {
     "data": {
      "text/plain": [
       "array([[ 0,  4, 16],\n",
       "       [ 4,  0,  4],\n",
       "       [16,  4,  0]])"
      ]
     },
     "execution_count": 12,
     "metadata": {},
     "output_type": "execute_result"
    }
   ],
   "source": [
    "arr_r = r.numpy()\n",
    "arr_r"
   ]
  },
  {
   "cell_type": "markdown",
   "metadata": {
    "colab_type": "text",
    "id": "68f3eQnV9lZk"
   },
   "source": [
    "### Comparisons\n",
    "\n",
    "As in all logical comparisons, the outcomes here are boolean variable. The comparisons themselves work like in numpy: **elementwise**. "
   ]
  },
  {
   "cell_type": "code",
   "execution_count": 13,
   "metadata": {
    "colab": {
     "base_uri": "https://localhost:8080/",
     "height": 612
    },
    "colab_type": "code",
    "executionInfo": {
     "elapsed": 751,
     "status": "ok",
     "timestamp": 1581701194208,
     "user": {
      "displayName": "Thanos Tagaris",
      "photoUrl": "",
      "userId": "11094556072874949144"
     },
     "user_tz": -120
    },
    "id": "Tg3B1uzp9tjR",
    "outputId": "d02ed49f-735d-4b51-9337-d1bcde8a5b77"
   },
   "outputs": [
    {
     "name": "stdout",
     "output_type": "stream",
     "text": [
      "Equal:\n",
      "tf.Tensor(\n",
      "[[ True False False]\n",
      " [False  True False]\n",
      " [False False  True]], shape=(3, 3), dtype=bool)\n",
      "\n",
      "Unequal:\n",
      "tf.Tensor(\n",
      "[[False  True  True]\n",
      " [ True False  True]\n",
      " [ True  True False]], shape=(3, 3), dtype=bool)\n",
      "\n",
      "Greater:\n",
      "tf.Tensor(\n",
      "[[False False False]\n",
      " [ True False False]\n",
      " [ True  True False]], shape=(3, 3), dtype=bool)\n",
      "\n",
      "Less:\n",
      "tf.Tensor(\n",
      "[[False  True  True]\n",
      " [False False  True]\n",
      " [False False False]], shape=(3, 3), dtype=bool)\n",
      "\n",
      "Greater or equal:\n",
      "tf.Tensor(\n",
      "[[ True False False]\n",
      " [ True  True False]\n",
      " [ True  True  True]], shape=(3, 3), dtype=bool)\n",
      "\n",
      "Less or equal:\n",
      "tf.Tensor(\n",
      "[[ True  True  True]\n",
      " [False  True  True]\n",
      " [False False  True]], shape=(3, 3), dtype=bool)\n"
     ]
    }
   ],
   "source": [
    "print('Equal:')\n",
    "print(t1 == t2)\n",
    "\n",
    "print('\\nUnequal:')\n",
    "print(t1 != t2)\n",
    "\n",
    "print('\\nGreater:')\n",
    "print(t1 > t2)\n",
    "\n",
    "print('\\nLess:')\n",
    "print(t1 < t2)\n",
    "\n",
    "print('\\nGreater or equal:')\n",
    "print(t1 >= t2)\n",
    "\n",
    "print('\\nLess or equal:')\n",
    "print(t1 <= t2)"
   ]
  },
  {
   "cell_type": "markdown",
   "metadata": {
    "colab_type": "text",
    "id": "odNoWYusKyMU"
   },
   "source": [
    "### Random\n",
    "\n",
    "[This module](https://www.tensorflow.org/api_docs/python/tf/random) is like [`numpy.random`](https://docs.scipy.org/doc/numpy-1.15.0/reference/routines.random.html), containing functions that involve randomness.\n",
    "\n",
    "Most commonly we'll be sampling data from distributions: \n"
   ]
  },
  {
   "cell_type": "code",
   "execution_count": 14,
   "metadata": {
    "colab": {
     "base_uri": "https://localhost:8080/",
     "height": 68
    },
    "colab_type": "code",
    "executionInfo": {
     "elapsed": 781,
     "status": "ok",
     "timestamp": 1581702670604,
     "user": {
      "displayName": "Thanos Tagaris",
      "photoUrl": "",
      "userId": "11094556072874949144"
     },
     "user_tz": -120
    },
    "id": "4u-NkTN8oT_L",
    "outputId": "b7ae0849-a9e5-45fb-9039-dc65499c7b62"
   },
   "outputs": [
    {
     "name": "stdout",
     "output_type": "stream",
     "text": [
      "tf.Tensor([0.30290473 0.09648383 0.5143337  0.24890459], shape=(4,), dtype=float32)\n",
      "tf.Tensor([0.17572471 0.04610927 0.41917738 0.40969065], shape=(4,), dtype=float32)\n",
      "tf.Tensor([-0.01369445 -0.87263983  0.8646996  -0.00374806], shape=(4,), dtype=float32)\n"
     ]
    }
   ],
   "source": [
    "print(tf.random.uniform((4,)))  # draws samples from a uniform distribution\n",
    "\n",
    "print(tf.random.normal((4,)))  # draws samples from a normal distribution\n",
    "\n",
    "print(tf.random.truncated_normal((4,)))  # draws samples from a truncated normal distribution"
   ]
  },
  {
   "cell_type": "markdown",
   "metadata": {
    "colab_type": "text",
    "id": "ThiMECQG2mMa"
   },
   "source": [
    "Another important function is `tf.random.shuffle()`."
   ]
  },
  {
   "cell_type": "code",
   "execution_count": 15,
   "metadata": {
    "colab": {
     "base_uri": "https://localhost:8080/",
     "height": 34
    },
    "colab_type": "code",
    "executionInfo": {
     "elapsed": 672,
     "status": "ok",
     "timestamp": 1581703360636,
     "user": {
      "displayName": "Thanos Tagaris",
      "photoUrl": "",
      "userId": "11094556072874949144"
     },
     "user_tz": -120
    },
    "id": "kO19MRlI3I24",
    "outputId": "0d66d9db-49ae-4281-c3cd-3bfd507e3611"
   },
   "outputs": [
    {
     "data": {
      "text/plain": [
       "<tf.Tensor: shape=(4,), dtype=int32, numpy=array([3, 4, 2, 1], dtype=int32)>"
      ]
     },
     "execution_count": 15,
     "metadata": {},
     "output_type": "execute_result"
    }
   ],
   "source": [
    "c = tf.constant([1, 2, 3, 4])\n",
    "c = tf.random.shuffle(c)  # Note that unlike numpy's shuffle, this doens't change the \n",
    "                          # tensor inplace. Even if it worked that way the tensor\n",
    "                          # is immutable, so we'd get an error. \n",
    "c"
   ]
  },
  {
   "cell_type": "markdown",
   "metadata": {
    "colab_type": "text",
    "id": "NH6E-Szr030L"
   },
   "source": [
    "For repeatability, TensorFlow uses its own random seed. "
   ]
  },
  {
   "cell_type": "code",
   "execution_count": 16,
   "metadata": {
    "colab": {
     "base_uri": "https://localhost:8080/",
     "height": 34
    },
    "colab_type": "code",
    "executionInfo": {
     "elapsed": 772,
     "status": "ok",
     "timestamp": 1581703066103,
     "user": {
      "displayName": "Thanos Tagaris",
      "photoUrl": "",
      "userId": "11094556072874949144"
     },
     "user_tz": -120
    },
    "id": "luHYwxl42Jc5",
    "outputId": "c105734b-d7b4-40f9-9daa-e672e0ad814b"
   },
   "outputs": [
    {
     "name": "stdout",
     "output_type": "stream",
     "text": [
      "tf.Tensor([0.5983684  0.07627809 0.34005308 0.9105623 ], shape=(4,), dtype=float32)\n"
     ]
    }
   ],
   "source": [
    "tf.random.set_seed(13)\n",
    "print(tf.random.uniform((4,)))"
   ]
  },
  {
   "cell_type": "markdown",
   "metadata": {
    "colab_type": "text",
    "id": "K9qCXzBw2Niz"
   },
   "source": [
    "This works a bit stranger than expected, because TensorFlow generators keep their own counter so that they won't repeat the same numbers if they are called twice.  More details on how it works can be found in the [function's documentation](https://www.tensorflow.org/api_docs/python/tf/random/set_seed)."
   ]
  },
  {
   "cell_type": "markdown",
   "metadata": {
    "colab_type": "text",
    "id": "2j8sqk54pfvM"
   },
   "source": [
    "### Math operations\n",
    "\n",
    "As we saw previously, the basic math operations between tensors (sum, prod, etc.) work with python's default operators (`+`, `*`, etc.). TensorFlow, offers a lot more in under the [`tensorflow.math`](https://www.tensorflow.org/api_docs/python/tf/math) module. Some examples are:"
   ]
  },
  {
   "cell_type": "code",
   "execution_count": 17,
   "metadata": {
    "colab": {
     "base_uri": "https://localhost:8080/",
     "height": 357
    },
    "colab_type": "code",
    "executionInfo": {
     "elapsed": 1132,
     "status": "ok",
     "timestamp": 1581687334576,
     "user": {
      "displayName": "Thanos Tagaris",
      "photoUrl": "",
      "userId": "11094556072874949144"
     },
     "user_tz": -120
    },
    "id": "SEPIukL0tWh6",
    "outputId": "69ede2f4-74bf-42d7-a12c-2bfeb4ce51ea"
   },
   "outputs": [
    {
     "name": "stdout",
     "output_type": "stream",
     "text": [
      "Absolute:\n",
      "tf.Tensor(\n",
      "[2.07685151 0.7294304  0.48116864 0.35275976 2.91635089 2.47934768\n",
      " 3.28349749 4.77447521 4.97510134 0.04599412 3.54395867 1.46371965\n",
      " 3.16840568 3.80961972 3.17022757 2.89655164], shape=(16,), dtype=float64)\n",
      "\n",
      "Round:\n",
      "tf.Tensor([-2. -1. -0.  0. -3.  2. -3.  5. -5.  0. -4.  1. -3. -4.  3. -3.], shape=(16,), dtype=float64)\n",
      "\n",
      "Ceiling:\n",
      "tf.Tensor([-2. -0. -0.  1. -2.  3. -3.  5. -4.  1. -3.  2. -3. -3.  4. -2.], shape=(16,), dtype=float64)\n",
      "\n",
      "Sign:\n",
      "tf.Tensor([-1. -1. -1.  1. -1.  1. -1.  1. -1.  1. -1.  1. -1. -1.  1. -1.], shape=(16,), dtype=float64)\n",
      "\n",
      "Square root:\n",
      "tf.Tensor(\n",
      "[       nan        nan        nan 0.59393582        nan 1.57459445\n",
      "        nan 2.18505726        nan 0.21446239        nan 1.20984282\n",
      "        nan        nan 1.78051329        nan], shape=(16,), dtype=float64)\n",
      "\n",
      "Count nonzero elements:\n",
      "tf.Tensor(4, shape=(), dtype=int64)\n",
      "\n",
      "Natural Logarithm:\n",
      "tf.Tensor([     -inf 0.        0.6931472 1.0986123 1.3862944], shape=(5,), dtype=float32)\n"
     ]
    }
   ],
   "source": [
    "t = tf.convert_to_tensor(np.random.rand(16) * 10 - 5)\n",
    "\n",
    "print('Absolute:')\n",
    "print(tf.math.abs(t))\n",
    "\n",
    "print('\\nRound:')\n",
    "print(tf.math.round(t))\n",
    "\n",
    "print('\\nCeiling:')\n",
    "print(tf.math.ceil(t))\n",
    "\n",
    "print('\\nSign:')\n",
    "print(tf.math.sign(t))\n",
    "\n",
    "print('\\nSquare root:')\n",
    "print(tf.math.sqrt(t))\n",
    "\n",
    "print('\\nCount nonzero elements:')\n",
    "c = tf.constant([0, 1, 1, 0, 0, 0, 1, 0, 1])\n",
    "print(tf.math.count_nonzero(c))\n",
    "\n",
    "print('\\nNatural Logarithm:')\n",
    "c = tf.constant([0, 1, 2, 3, 4], dtype=tf.float32)\n",
    "print(tf.math.log(c))"
   ]
  },
  {
   "cell_type": "markdown",
   "metadata": {
    "colab_type": "text",
    "id": "WwZS7xoF2oM4"
   },
   "source": [
    "#### Trigonometric functions"
   ]
  },
  {
   "cell_type": "code",
   "execution_count": 18,
   "metadata": {
    "colab": {
     "base_uri": "https://localhost:8080/",
     "height": 510
    },
    "colab_type": "code",
    "executionInfo": {
     "elapsed": 1274,
     "status": "ok",
     "timestamp": 1581687305626,
     "user": {
      "displayName": "Thanos Tagaris",
      "photoUrl": "",
      "userId": "11094556072874949144"
     },
     "user_tz": -120
    },
    "id": "DDoT-XyC24JE",
    "outputId": "6432b22a-2919-4ed2-f366-6d50368ecb48"
   },
   "outputs": [
    {
     "name": "stdout",
     "output_type": "stream",
     "text": [
      "Original:\n",
      "tf.Tensor([-0.5  0.   0.5  1.   1.5], shape=(5,), dtype=float32)\n",
      "\n",
      "Sine:\n",
      "tf.Tensor([-0.47942555  0.          0.47942555  0.84147096  0.997495  ], shape=(5,), dtype=float32)\n",
      "\n",
      "Cosine:\n",
      "tf.Tensor([0.87758255 1.         0.87758255 0.5403023  0.0707372 ], shape=(5,), dtype=float32)\n",
      "\n",
      "Tangent:\n",
      "tf.Tensor([-0.5463025  0.         0.5463025  1.5574077 14.10142  ], shape=(5,), dtype=float32)\n",
      "\n",
      "Hyperbolic Sine:\n",
      "tf.Tensor([-0.5210953  0.         0.5210953  1.1752012  2.1292794], shape=(5,), dtype=float32)\n",
      "\n",
      "Hyperbolic Cosine:\n",
      "tf.Tensor([1.127626  1.        1.127626  1.5430806 2.3524096], shape=(5,), dtype=float32)\n",
      "\n",
      "Hyperbolic Tangent:\n",
      "tf.Tensor([-0.46211717  0.          0.46211717  0.7615942   0.9051482 ], shape=(5,), dtype=float32)\n",
      "\n",
      "Inverse Sine (arcsin):\n",
      "tf.Tensor([-0.5235988  0.         0.5235988  1.5707964        nan], shape=(5,), dtype=float32)\n",
      "\n",
      "Inverse Cosine (arccos):\n",
      "tf.Tensor([2.0943952 1.5707964 1.0471976 0.              nan], shape=(5,), dtype=float32)\n",
      "\n",
      "Inverse Tangent (arctan):\n",
      "tf.Tensor([-0.4636476   0.          0.4636476   0.7853982   0.98279375], shape=(5,), dtype=float32)\n"
     ]
    }
   ],
   "source": [
    "t = tf.constant([-0.5, 0, 0.5, 1, 1.5], dtype=tf.float32)\n",
    "print('Original:')\n",
    "print(t)\n",
    "\n",
    "print('\\nSine:')\n",
    "print(tf.math.sin(t))\n",
    "\n",
    "print('\\nCosine:')\n",
    "print(tf.math.cos(t))\n",
    "\n",
    "print('\\nTangent:')\n",
    "print(tf.math.tan(t))\n",
    "\n",
    "print('\\nHyperbolic Sine:')\n",
    "print(tf.math.sinh(t))\n",
    "\n",
    "print('\\nHyperbolic Cosine:')\n",
    "print(tf.math.cosh(t))\n",
    "\n",
    "print('\\nHyperbolic Tangent:')\n",
    "print(tf.math.tanh(t))\n",
    "\n",
    "print('\\nInverse Sine (arcsin):')\n",
    "print(tf.math.asin(t))\n",
    "\n",
    "print('\\nInverse Cosine (arccos):')\n",
    "print(tf.math.acos(t))\n",
    "\n",
    "print('\\nInverse Tangent (arctan):')\n",
    "print(tf.math.atan(t))\n"
   ]
  },
  {
   "cell_type": "markdown",
   "metadata": {
    "colab_type": "text",
    "id": "a5wbis7S44jS"
   },
   "source": [
    "#### Check for `nan` or `inf`"
   ]
  },
  {
   "cell_type": "code",
   "execution_count": 19,
   "metadata": {
    "colab": {
     "base_uri": "https://localhost:8080/",
     "height": 204
    },
    "colab_type": "code",
    "executionInfo": {
     "elapsed": 1179,
     "status": "ok",
     "timestamp": 1581687320733,
     "user": {
      "displayName": "Thanos Tagaris",
      "photoUrl": "",
      "userId": "11094556072874949144"
     },
     "user_tz": -120
    },
    "id": "LdX7QTb345rm",
    "outputId": "16763469-bac0-41a0-e56d-8a548298ce6d"
   },
   "outputs": [
    {
     "name": "stdout",
     "output_type": "stream",
     "text": [
      "Original:\n",
      "tf.Tensor([  1.  nan   2.  inf   3. -inf   4.], shape=(7,), dtype=float64)\n",
      "\n",
      "Is finite?\n",
      "tf.Tensor([ True False  True False  True False  True], shape=(7,), dtype=bool)\n",
      "\n",
      "Is nan?\n",
      "tf.Tensor([False  True False False False False False], shape=(7,), dtype=bool)\n",
      "\n",
      "Is infinite?\n",
      "tf.Tensor([False False False  True False  True False], shape=(7,), dtype=bool)\n"
     ]
    }
   ],
   "source": [
    "t = tf.convert_to_tensor(np.array([1, np.nan, 2, np.inf, 3, -np.inf, 4]))\n",
    "print('Original:')\n",
    "print(t)\n",
    "\n",
    "print('\\nIs finite?')\n",
    "print(tf.math.is_finite(t))\n",
    "\n",
    "print('\\nIs nan?')\n",
    "print(tf.math.is_nan(t))\n",
    "\n",
    "print('\\nIs infinite?')\n",
    "print(tf.math.is_inf(t))"
   ]
  },
  {
   "cell_type": "markdown",
   "metadata": {
    "colab_type": "text",
    "id": "poODODeX6a46"
   },
   "source": [
    "#### Reduce operations\n",
    "\n",
    "All operations we've seen up till now are elementwise (i.e. they don't affect the dimensions of the input tensors).\n",
    "\n",
    "Reduce opeations, on the other hand **reduce** the dimensions of their input. The most common example of a reduce operation is `max()`; this function takes $N$ items as its input and returns just $1$, i.e. the max."
   ]
  },
  {
   "cell_type": "code",
   "execution_count": 20,
   "metadata": {
    "colab": {
     "base_uri": "https://localhost:8080/",
     "height": 306
    },
    "colab_type": "code",
    "executionInfo": {
     "elapsed": 1207,
     "status": "ok",
     "timestamp": 1581688476307,
     "user": {
      "displayName": "Thanos Tagaris",
      "photoUrl": "",
      "userId": "11094556072874949144"
     },
     "user_tz": -120
    },
    "id": "aHyIf6RQ7bug",
    "outputId": "991d3871-e2b6-4763-e09b-73c14345d3aa"
   },
   "outputs": [
    {
     "name": "stdout",
     "output_type": "stream",
     "text": [
      "Original:\n",
      "tf.Tensor([0. 1. 2. 3. 4.], shape=(5,), dtype=float32)\n",
      "\n",
      "Min:\n",
      "tf.Tensor(0.0, shape=(), dtype=float32)\n",
      "\n",
      "Max:\n",
      "tf.Tensor(4.0, shape=(), dtype=float32)\n",
      "\n",
      "Mean:\n",
      "tf.Tensor(2.0, shape=(), dtype=float32)\n",
      "\n",
      "Sum:\n",
      "tf.Tensor(10.0, shape=(), dtype=float32)\n",
      "\n",
      "Product:\n",
      "tf.Tensor(0.0, shape=(), dtype=float32)\n"
     ]
    }
   ],
   "source": [
    "print('Original:')\n",
    "print(c)\n",
    "\n",
    "print('\\nMin:')\n",
    "print(tf.math.reduce_min(c))\n",
    "\n",
    "print('\\nMax:')\n",
    "print(tf.math.reduce_max(c))\n",
    "\n",
    "print('\\nMean:')\n",
    "print(tf.math.reduce_mean(c))\n",
    "\n",
    "print('\\nSum:')\n",
    "print(tf.math.reduce_sum(c))\n",
    "\n",
    "print('\\nProduct:')\n",
    "print(tf.math.reduce_prod(c))"
   ]
  },
  {
   "cell_type": "markdown",
   "metadata": {
    "colab_type": "text",
    "id": "ucJnODpC-tkq"
   },
   "source": [
    "Two other very useful reduce operations are `any` and `all`:"
   ]
  },
  {
   "cell_type": "code",
   "execution_count": 21,
   "metadata": {
    "colab": {
     "base_uri": "https://localhost:8080/",
     "height": 289
    },
    "colab_type": "code",
    "executionInfo": {
     "elapsed": 1146,
     "status": "ok",
     "timestamp": 1581688653376,
     "user": {
      "displayName": "Thanos Tagaris",
      "photoUrl": "",
      "userId": "11094556072874949144"
     },
     "user_tz": -120
    },
    "id": "p4RDMTh3-zSS",
    "outputId": "530675b0-28f0-45c4-ddaa-3572d125ce7e"
   },
   "outputs": [
    {
     "name": "stdout",
     "output_type": "stream",
     "text": [
      "c1:\n",
      "tf.Tensor([ True  True  True  True], shape=(4,), dtype=bool)\n",
      "c2:\n",
      "tf.Tensor([ True False False False], shape=(4,), dtype=bool)\n",
      "c3:\n",
      "tf.Tensor([False False False False], shape=(4,), dtype=bool)\n",
      "\n",
      "Any (c1, c2, c3):\n",
      "tf.Tensor(True, shape=(), dtype=bool)\n",
      "tf.Tensor(True, shape=(), dtype=bool)\n",
      "tf.Tensor(False, shape=(), dtype=bool)\n",
      "\n",
      "All (c1, c2, c3):\n",
      "tf.Tensor(True, shape=(), dtype=bool)\n",
      "tf.Tensor(False, shape=(), dtype=bool)\n",
      "tf.Tensor(False, shape=(), dtype=bool)\n"
     ]
    }
   ],
   "source": [
    "c1 = tf.constant([True, True, True, True])\n",
    "c2 = tf.constant([True, False, False, False])\n",
    "c3 = tf.constant([False, False, False, False])\n",
    "\n",
    "print('c1:')\n",
    "print(c1)\n",
    "print('c2:')\n",
    "print(c2)\n",
    "print('c3:')\n",
    "print(c3)\n",
    "\n",
    "print('\\nAny (c1, c2, c3):')\n",
    "print(tf.math.reduce_any(c1))\n",
    "print(tf.math.reduce_any(c2))\n",
    "print(tf.math.reduce_any(c3))\n",
    "\n",
    "print('\\nAll (c1, c2, c3):')\n",
    "print(tf.math.reduce_all(c1))\n",
    "print(tf.math.reduce_all(c2))\n",
    "print(tf.math.reduce_all(c3))"
   ]
  },
  {
   "cell_type": "markdown",
   "metadata": {
    "colab_type": "text",
    "id": "hUdlVi-dkGUp"
   },
   "source": [
    "#### Segmentation Operations\n",
    "\n",
    "These operations perform computations on tensor **segments**. The available operations are [min](https://www.tensorflow.org/api_docs/python/tf/math/segment_min), [max](https://www.tensorflow.org/api_docs/python/tf/math/segment_max), [mean](https://www.tensorflow.org/api_docs/python/tf/math/segment_mean), [sum](https://www.tensorflow.org/api_docs/python/tf/math/segment_sum) and [prod](https://www.tensorflow.org/api_docs/python/tf/math/segment_prod).\n",
    "\n",
    "For example\n",
    "\n",
    "```python\n",
    "data = tf.constant([5, 1, 7, 2, 3, 4, 1, 3])\n",
    "segmentation_ids = tf.constant([0, 0, 0, 1, 2, 2, 3, 3])\n",
    "tf.math.segment_sum(data, segmentation_ids)\n",
    "```\n",
    "  \n",
    "![](https://www.tensorflow.org/images/SegmentSum.png)\n",
    "\n",
    "  \n",
    "On N-dimensional tensors, the `segmentation_ids` correspond to the first dimension of the input tensor."
   ]
  },
  {
   "cell_type": "code",
   "execution_count": 22,
   "metadata": {
    "colab": {
     "base_uri": "https://localhost:8080/",
     "height": 102
    },
    "colab_type": "code",
    "executionInfo": {
     "elapsed": 1224,
     "status": "ok",
     "timestamp": 1581686160469,
     "user": {
      "displayName": "Thanos Tagaris",
      "photoUrl": "",
      "userId": "11094556072874949144"
     },
     "user_tz": -120
    },
    "id": "_EQKA7Q3iBV2",
    "outputId": "73a36a1e-b9e3-435f-9a36-d05e2cc71833"
   },
   "outputs": [
    {
     "data": {
      "text/plain": [
       "<tf.Tensor: shape=(4, 4), dtype=int32, numpy=\n",
       "array([[ 1,  5,  3,  7],\n",
       "       [ 4,  2,  8,  6],\n",
       "       [-1, -5, -3, -7],\n",
       "       [-2, -4,  0, -6]], dtype=int32)>"
      ]
     },
     "execution_count": 22,
     "metadata": {},
     "output_type": "execute_result"
    }
   ],
   "source": [
    "c = tf.constant([[1, 5, 3, 7], [4, 2, 8, 6], [-1, -5, -3, -7], [-2, -4, 0, -6]])\n",
    "c"
   ]
  },
  {
   "cell_type": "markdown",
   "metadata": {
    "colab_type": "text",
    "id": "ErJst4OIlnyT"
   },
   "source": [
    "From the tensor above we want to find the max element per column. However, we want to take into account the first two rows **separately** from last two (i.e. one max per column for rows 1 and 2 and one max per column for rows 3 and 4)."
   ]
  },
  {
   "cell_type": "code",
   "execution_count": 23,
   "metadata": {
    "colab": {
     "base_uri": "https://localhost:8080/",
     "height": 68
    },
    "colab_type": "code",
    "executionInfo": {
     "elapsed": 1077,
     "status": "ok",
     "timestamp": 1581686161111,
     "user": {
      "displayName": "Thanos Tagaris",
      "photoUrl": "",
      "userId": "11094556072874949144"
     },
     "user_tz": -120
    },
    "id": "rqVBHOWSjEic",
    "outputId": "8cf91e97-872d-417e-af52-df16a3103492"
   },
   "outputs": [
    {
     "data": {
      "text/plain": [
       "<tf.Tensor: shape=(2, 4), dtype=int32, numpy=\n",
       "array([[ 4,  5,  8,  7],\n",
       "       [-1, -4,  0, -6]], dtype=int32)>"
      ]
     },
     "execution_count": 23,
     "metadata": {},
     "output_type": "execute_result"
    }
   ],
   "source": [
    "tf.math.segment_max(c, tf.constant([0, 0, 1, 1]))"
   ]
  },
  {
   "cell_type": "markdown",
   "metadata": {
    "colab_type": "text",
    "id": "cZfI0LfPjgy-"
   },
   "source": [
    "Note that this operation essentially segments a tensor into some parts and efficiently performs a computation on each segment. These segments, however **need to be sorted** and cannot be shuffled (i.e. the second segment must start after the first has ended). For example an arrangement like this is invalid:\n",
    "\n",
    "```python\n",
    "tf.math.segment_max(c, tf.constant([0, 1, 0, 1]))\n",
    "```\n",
    "\n",
    "If we want the above we will have to use one of the **unsorted_segment** operations, namely:\n",
    "\n",
    "\n"
   ]
  },
  {
   "cell_type": "code",
   "execution_count": 24,
   "metadata": {
    "colab": {
     "base_uri": "https://localhost:8080/",
     "height": 68
    },
    "colab_type": "code",
    "executionInfo": {
     "elapsed": 1273,
     "status": "ok",
     "timestamp": 1581686197098,
     "user": {
      "displayName": "Thanos Tagaris",
      "photoUrl": "",
      "userId": "11094556072874949144"
     },
     "user_tz": -120
    },
    "id": "bDjoYR7wjkhG",
    "outputId": "43b53744-a7a3-4f95-ae21-35be4e9063b4"
   },
   "outputs": [
    {
     "data": {
      "text/plain": [
       "<tf.Tensor: shape=(2, 4), dtype=int32, numpy=\n",
       "array([[1, 5, 3, 7],\n",
       "       [4, 2, 8, 6]], dtype=int32)>"
      ]
     },
     "execution_count": 24,
     "metadata": {},
     "output_type": "execute_result"
    }
   ],
   "source": [
    "tf.math.unsorted_segment_max(c, tf.constant([0, 1, 0, 1]), num_segments=2)  # the num_segments argument is necessary"
   ]
  },
  {
   "cell_type": "markdown",
   "metadata": {
    "colab_type": "text",
    "id": "kvkZN2X4oGqb"
   },
   "source": [
    "#### Logical operations\n",
    "\n",
    "The final category of functions we'll see are logical ones. These perform operations **between boolean values**."
   ]
  },
  {
   "cell_type": "code",
   "execution_count": 25,
   "metadata": {
    "colab": {
     "base_uri": "https://localhost:8080/",
     "height": 255
    },
    "colab_type": "code",
    "executionInfo": {
     "elapsed": 502,
     "status": "ok",
     "timestamp": 1581688141194,
     "user": {
      "displayName": "Thanos Tagaris",
      "photoUrl": "",
      "userId": "11094556072874949144"
     },
     "user_tz": -120
    },
    "id": "aV0Teh-Z8ySu",
    "outputId": "217fa62e-bd16-4b4b-8bcd-01351e7ec2a2"
   },
   "outputs": [
    {
     "name": "stdout",
     "output_type": "stream",
     "text": [
      "B1:\n",
      "tf.Tensor([ True False  True False], shape=(4,), dtype=bool)\n",
      "\n",
      "B2:\n",
      "tf.Tensor([ True  True False False], shape=(4,), dtype=bool)\n",
      "\n",
      "B1 and B2:\n",
      "tf.Tensor([ True False False False], shape=(4,), dtype=bool)\n",
      "\n",
      "B1 or B2:\n",
      "tf.Tensor([ True  True  True False], shape=(4,), dtype=bool)\n",
      "\n",
      "not B1:\n",
      "tf.Tensor([False  True False  True], shape=(4,), dtype=bool)\n"
     ]
    }
   ],
   "source": [
    "b1 = tf.convert_to_tensor([True, False, True, False])\n",
    "b2 = tf.convert_to_tensor([True, True, False, False])\n",
    "\n",
    "print('B1:')\n",
    "print(b1)\n",
    "\n",
    "print('\\nB2:')\n",
    "print(b2)\n",
    "\n",
    "print('\\nB1 and B2:')\n",
    "print(tf.math.logical_and(b1, b2))\n",
    "\n",
    "print('\\nB1 or B2:')\n",
    "print(tf.math.logical_or(b1, b2))\n",
    "\n",
    "print('\\nnot B1:')\n",
    "print(tf.math.logical_not(b1))"
   ]
  },
  {
   "cell_type": "markdown",
   "metadata": {
    "colab_type": "text",
    "id": "7QVK_qggA9Wr"
   },
   "source": [
    "### Linear Algebra\n",
    "\n",
    "[`tensorflow.linalg`](https://www.tensorflow.org/api_docs/python/tf/linalg) is another module focucing on linear algebra operations. The most common of these are: "
   ]
  },
  {
   "cell_type": "code",
   "execution_count": 26,
   "metadata": {
    "colab": {
     "base_uri": "https://localhost:8080/",
     "height": 595
    },
    "colab_type": "code",
    "executionInfo": {
     "elapsed": 1071,
     "status": "ok",
     "timestamp": 1581690036343,
     "user": {
      "displayName": "Thanos Tagaris",
      "photoUrl": "",
      "userId": "11094556072874949144"
     },
     "user_tz": -120
    },
    "id": "3OMHkH8LB0zy",
    "outputId": "ccfe0f53-0f38-4ad9-fc38-c3a54d5974b6"
   },
   "outputs": [
    {
     "name": "stdout",
     "output_type": "stream",
     "text": [
      "\n",
      "Eigenvalue decomposition:\n",
      "tf.Tensor([ 17.797964 +0.j -16.000002 +0.j  -1.7979587+0.j], shape=(3,), dtype=complex64)\n",
      "tf.Tensor(\n",
      "[[-6.7388743e-01+0.j -7.0710695e-01+0.j  2.1418646e-01+0.j]\n",
      " [-3.0290544e-01+0.j -8.9203084e-08+0.j -9.5302063e-01+0.j]\n",
      " [-6.7388725e-01+0.j  7.0710665e-01+0.j  2.1418653e-01+0.j]], shape=(3, 3), dtype=complex64)\n",
      "\n",
      "Matrix Exponential:\n",
      "tf.Tensor(\n",
      "[[24363040. 10950938. 24363042.]\n",
      " [10950937.  4922335. 10950939.]\n",
      " [24363040. 10950937. 24363042.]], shape=(3, 3), dtype=float32)\n",
      "\n",
      "Inverse:\n",
      "tf.Tensor(\n",
      "[[-0.03125  0.125    0.03125]\n",
      " [ 0.125   -0.5      0.125  ]\n",
      " [ 0.03125  0.125   -0.03125]], shape=(3, 3), dtype=float32)\n",
      "\n",
      "Matrix Norm (2nd order):\n",
      "tf.Tensor(24.0, shape=(), dtype=float32)\n",
      "\n",
      "Transpose:\n",
      "tf.Tensor(\n",
      "[[ 0.  4. 16.]\n",
      " [ 4.  0.  4.]\n",
      " [16.  4.  0.]], shape=(3, 3), dtype=float32)\n",
      "\n",
      "Matrix multiplication:\n",
      "tf.Tensor(\n",
      "[[272.  64.  16.]\n",
      " [ 64.  32.  64.]\n",
      " [ 16.  64. 272.]], shape=(3, 3), dtype=float32)\n"
     ]
    }
   ],
   "source": [
    "r1 = tf.cast(r, dtype=tf.float32)\n",
    "\n",
    "print('\\nEigenvalue decomposition:')\n",
    "e, v = tf.linalg.eig(r1)\n",
    "print(e)  # eigenvalues\n",
    "print(v)  # eigenvectors\n",
    "\n",
    "print('\\nMatrix Exponential:')\n",
    "print(tf.linalg.expm(r1))\n",
    "\n",
    "print('\\nInverse:')\n",
    "print(tf.linalg.inv(r1))\n",
    "\n",
    "print('\\nMatrix Norm (2nd order):')\n",
    "print(tf.linalg.norm(r1))  # this has a parameter ord to control the order of the norm\n",
    "\n",
    "print('\\nTranspose:')\n",
    "r2 = tf.linalg.matrix_transpose(r1)\n",
    "print(r2)\n",
    "\n",
    "print('\\nMatrix multiplication:')\n",
    "print(tf.linalg.matmul(r1, r2))"
   ]
  },
  {
   "cell_type": "markdown",
   "metadata": {
    "colab_type": "text",
    "id": "127FURXcDGYF"
   },
   "source": [
    "### Important note on tensorflow modules:\n",
    "\n",
    "The most common operations that are defined inside any of TensorFlow's modules have easily accessible aliases under `tensorflow`. \n",
    "\n",
    "For example, to compute the elementwise absolute values of a tensor `t` we can just write `tf.abs(t)` instead of `tf.math.abs(t)`.\n",
    "\n",
    "It is important to note that these are **just aliases** and not different functions. This can be simply confirmed:"
   ]
  },
  {
   "cell_type": "code",
   "execution_count": 27,
   "metadata": {
    "colab": {
     "base_uri": "https://localhost:8080/",
     "height": 51
    },
    "colab_type": "code",
    "executionInfo": {
     "elapsed": 1083,
     "status": "ok",
     "timestamp": 1581690714585,
     "user": {
      "displayName": "Thanos Tagaris",
      "photoUrl": "",
      "userId": "11094556072874949144"
     },
     "user_tz": -120
    },
    "id": "4h-EGXvqF-Wj",
    "outputId": "306b09f3-3a89-4dae-b00e-c042e69c5a3a"
   },
   "outputs": [
    {
     "name": "stdout",
     "output_type": "stream",
     "text": [
      "True\n",
      "True\n"
     ]
    }
   ],
   "source": [
    "print(tf.abs is tf.math.abs)\n",
    "print(tf.norm is tf.linalg.norm)"
   ]
  },
  {
   "cell_type": "markdown",
   "metadata": {
    "colab_type": "text",
    "id": "KAIu3T7kGA_N"
   },
   "source": [
    "There has been a lot of effort made in TF2 to [clean up](https://www.tensorflow.org/guide/effective_tf2#api_cleanup) the `tensorflow` module, which was overbloated with aliases like these. For this reason I prefer using calling the functions from where they are defined and not their aliases (e.g. `tf.math.abs` instead of `tf.abs`). This, however, is simply a matter of preference."
   ]
  },
  {
   "cell_type": "markdown",
   "metadata": {},
   "source": [
    "## Part 2. Computational graph\n",
    "\n",
    "If we have a sequence of operations, we can represent these as nodes in a graph. In this representation, the edges would be the tensors that flow from operation to operation.\n",
    "\n",
    "For example, a fully connected layer that performs the operation:\n",
    "\n",
    "$$\n",
    "z = f(W \\cdot X + b)\n",
    "$$\n",
    "\n",
    "This series of operations would be represented as a computational graph as follows.\n",
    "\n",
    "![example computational graph](https://github.com/djib2011/tensorflow-training/blob/main/figures/comp_graph.png?raw=true)\n",
    "\n",
    "In the figure above the boxes represent tensors (gray: input, pink: derived), while the circles represent operations. \n",
    "\n",
    "It wouldn't be hard to imagine how a whole Neural Network, along with its loss function would be represented in this fashion. Now we can picture an alternate training process, where we would first define the full computation graph and then run the actual computations.\n",
    "\n",
    "An important detail we must understand, is that computation with this model actually happens in **two stages**:\n",
    "1. the computational graph is constructed\n",
    "2. the actual values are inputted and the computation actually happens$^1$\n",
    "\n",
    "You can think this as a **lazy** approach to computation that is in contrast with the more **eager** way of computing that we're more familiar with. The differences might become more apparent if we look at this analogy in pure python: \n",
    "\n",
    "```python\n",
    "# 1) Eagerly compute the result:\n",
    "z = f(w * x + b)\n",
    "\n",
    "# 2) Lazily compute the result:\n",
    "def fc(x):\n",
    "    return f(w * x + b)\n",
    "\n",
    "# ... \n",
    "# at this point we have defined which operations\n",
    "# we want to run, i.e. the \"computation graph\"\n",
    "# ...\n",
    "\n",
    "z = fc(x)  # run the actual computation\n",
    "```\n",
    "\n",
    "This computational model has several advantages over eagerly executing the operations.\n",
    "\n",
    "- Computation graphs can be **simplified**. E.g. the operation `c = a + b - b` could be simplified into `c = a` even before we receive the actual values of `a` and `b`.\n",
    "\n",
    "- We can add to each node two operation one for the **regular** path and one for the **reverse** path. This way our computation graph can be bidirectional. This is very useful for **backpropagation**, where we want the input tensors to flow in the forward path and the gradients in the backward path.\n",
    "\n",
    "- We don't need to know the exact shape of the input when creating the graph. In practice this translates to **not** needing to specify the **batch size** when defining the model's architecture.\n",
    "\n",
    "- There are several **optimization** tricks that TensorFlow can make to computation graphs, e.g. parallel processing.\n",
    "\n",
    "It has its disadvantages also:\n",
    "\n",
    "- **Complexity**. Imagine if you had to define a function every time you needed to do a simple addition in python!\n",
    "\n",
    "- **Error Handling**. If we make a mistake when defining the graph, we'll know much later when actually running the graph.\n",
    "\n",
    "$^1$ *An interesting thing to note is that this is where TensorFlow gets its name. We input the values to the computational graph and information **flows** through it as **tensors** to produce the final result.*\n",
    "\n",
    "## Part 3. Eager vs graph mode\n",
    "\n",
    "I know what you're thinking. TensorFlow has looked pretty eager until now. That's because it is, since version 2.0, **eager mode is the default in TensorFlow**. "
   ]
  },
  {
   "cell_type": "code",
   "execution_count": 28,
   "metadata": {},
   "outputs": [
    {
     "data": {
      "text/plain": [
       "True"
      ]
     },
     "execution_count": 28,
     "metadata": {},
     "output_type": "execute_result"
    }
   ],
   "source": [
    "tf.executing_eagerly()"
   ]
  },
  {
   "cell_type": "markdown",
   "metadata": {},
   "source": [
    "How do we utilize graph mode then?\n",
    "\n",
    "Luckily, TensorFlow provides a tool to make our life easier: [AutoGraph](https://www.tensorflow.org/api_docs/python/tf/autograph). This is involked through the [`tf.function`](https://www.tensorflow.org/api_docs/python/tf/function) decorator and converts any regular python syntax into a TensorFlow computation graph!\n",
    "\n",
    "You can run the cell below twice for more accurate results."
   ]
  },
  {
   "cell_type": "code",
   "execution_count": 34,
   "metadata": {},
   "outputs": [
    {
     "name": "stdout",
     "output_type": "stream",
     "text": [
      "Same result: True\n",
      "Eager time: 1.07ms\n",
      "Graph time: 1.18ms\n"
     ]
    }
   ],
   "source": [
    "# Regular keras FC layer\n",
    "fc = tf.keras.layers.Dense(100)\n",
    "\n",
    "# Same operation converted to a TensorFlow graph\n",
    "@tf.function\n",
    "def fc_graph(x):\n",
    "    return fc(x)\n",
    "\n",
    "# Create dummy data\n",
    "X = tf.random.normal(shape=(1000, 100))\n",
    "\n",
    "# Run each operation once for warmup\n",
    "# (we have an initial \"cost\" of having to construct the graph, to evaluate which\n",
    "# of the two is faster we need to take this out of the equation.)\n",
    "fc(X); fc_graph(X)\n",
    "\n",
    "# Run a forward pass on both keras and our tf-wrapped layer\n",
    "t1 = time.time()\n",
    "z1 = fc(X)\n",
    "t2 = time.time()\n",
    "z2 = fc_graph(X)\n",
    "t3 = time.time()\n",
    "\n",
    "# Assert that we performed the same operation and we got the same result\n",
    "print('Same result:', np.array_equal(z1, z2))\n",
    "\n",
    "# Print the results\n",
    "print('Eager time: {:.2f}ms'.format((t2 - t1) * 1000))\n",
    "print('Graph time: {:.2f}ms'.format((t3 - t2) * 1000))"
   ]
  },
  {
   "cell_type": "markdown",
   "metadata": {},
   "source": [
    "This difference is bigger in other types of layers. The following example was taken from the [official TensorFlow guide on tf.functions](https://www.tensorflow.org/guide/function#the_tffunction_decorator). Remember to run this cell a couple of times."
   ]
  },
  {
   "cell_type": "code",
   "execution_count": 37,
   "metadata": {},
   "outputs": [
    {
     "name": "stdout",
     "output_type": "stream",
     "text": [
      "Same result: False\n",
      "Eager time: 1.15ms\n",
      "Graph time: 0.72ms\n"
     ]
    }
   ],
   "source": [
    "# Keras LSTM layer\n",
    "lstm_cell = tf.keras.layers.LSTMCell(10)\n",
    "\n",
    "# Convert to tf Graph\n",
    "@tf.function\n",
    "def lstm_fn(input, state):\n",
    "    return lstm_cell(input, state)\n",
    "\n",
    "# Generate \"dummy\" input data\n",
    "inp = tf.zeros([10, 10])\n",
    "state = [tf.zeros([10, 10])] * 2\n",
    "\n",
    "# Warmup\n",
    "lstm_cell(inp, state); lstm_fn(inp, state)\n",
    "\n",
    "# Run the benchmark\n",
    "t1 = time.time()\n",
    "z1 = lstm_cell(inp, state)\n",
    "t2 = time.time()\n",
    "z2 = lstm_fn(inp, state)\n",
    "t3 = time.time()\n",
    "\n",
    "print('Same result:', np.array_equal(z1, z2))\n",
    "\n",
    "print('Eager time: {:.2f}ms'.format((t2 - t1) * 1000))\n",
    "print('Graph time: {:.2f}ms'.format((t3 - t2) * 1000))"
   ]
  },
  {
   "cell_type": "markdown",
   "metadata": {},
   "source": [
    "Here the forward pass takes up almost **half the time** when run in graph mode!\n",
    "\n",
    "Some interesting details about the `tf.function` wrapper and graph mode in general are presented below. Some of these should concern only advanced users, I present them here mostly for reference:\n",
    "\n",
    "- If we have a nested structure we just need to apply the decorator to the outer function. It will work on its own in the inner function as well. For example:\n",
    "\n",
    "```python\n",
    "# no need for @tf.function here\n",
    "def a(x):\n",
    "    return 2 * x\n",
    "\n",
    "@tf.function\n",
    "def b(x):\n",
    "    return 3 * a(x)\n",
    "```\n",
    "\n",
    "- AutoGraph inhenetly handles any python control structures by converting the native python ops to TensorFlow graph ops. For example, python's `while` will become [`tf.while_loop`](https://www.tensorflow.org/api_docs/python/tf/while_loop), `if` will become [`tf.cond`](https://www.tensorflow.org/api_docs/python/tf/cond), etc.\n",
    "\n",
    "- AutoGraph is enabled **by default** for all non-dynamic keras models.\n",
    "\n",
    "- The first time a `tf.function` decorated function is involked, the AutoGraph module is called to construct the graph. This procedure is called [tracing](https://www.tensorflow.org/guide/function) and takes time. For this reason reason avoid applying `tf.function` to low-level local function; rather try to decorate module-level functions and class methods.  *Note: this is the reason we used a \"warmup\" when timing the execution before.*  A more in-depth analysis of this can be found [here](https://www.tensorflow.org/guide/function#re-tracing).\n",
    "\n",
    "- Graphs were the \"default view\" of TensorFlow in versions `< 2.0`. TensorFlow still allows for the [direct (i.e. manual) construction of a graph](https://www.tensorflow.org/api_docs/python/tf/Graph#using_graphs_directly_deprecated). However, this approach is **deprecated** and should be avoided.\n",
    "\n",
    "- Asynchronous batch prefetching (an important feature in data generators that we'll discuss in the 3rd notebook) is [only available](https://www.tensorflow.org/guide/effective_tf2#combine_tfdatadatasets_and_tffunction) when running in graph mode.\n",
    "\n",
    "- Several **limitations** of AutoGraph (along with their workarounds) can be found [here](https://github.com/tensorflow/tensorflow/blob/master/tensorflow/python/autograph/g3doc/reference/limitations.md). It is worthwile to go through them if you're planning to use the `tf.function` decorator.\n",
    "\n",
    "- TensorFlow uses a tool called [Grappler](https://www.tensorflow.org/guide/graph_optimization) for **optimizing** its graphs. These optimizations include *pruning* redundant nodes, *stripping* debugging operations, *low-level memory mapping*, *parallelization* and many more. More info about these can be found [here](https://web.stanford.edu/class/cs245/slides/TFGraphOptimizationsStanford.pdf). Most of these are **enabled by default**, however Grappler also allows for a more [fine-grained control](https://www.tensorflow.org/api_docs/python/tf/config/optimizer/set_experimental_options).  \n",
    "\n",
    "## Part 4. Automatic differentiation with AutoGrad\n",
    "\n",
    "This part will focus on one of the key features of TensorFlow: automatic differentiation, i.e. the ability to compute the gradient of any operation. This is necessary for training Neural Networks. To accomplish this TensorFlow uses a technique called [reverse-mode automatic differentiation](https://en.wikipedia.org/wiki/Automatic_differentiation).\n",
    "\n",
    "The main API we can use to compute the gradient of one or more operations is [`tf.GradientTape`](https://www.tensorflow.org/api_docs/python/tf/GradientTape). This defines a context, within which opeations are recorded. TensorFlow then uses auto-differentiation to compute the gradient of these operations w.r.t some tensor(s).\n",
    "\n",
    "For example, suppose we have a function:\n",
    "\n",
    "$$\n",
    "f(x) = x^2 - 3x + 1\n",
    "$$\n",
    "\n",
    "and we want to compute its gradient w.r.t $x$, for $x = 2$:\n",
    "\n",
    "$$\n",
    "\\frac{df}{dx}\\bigg\\rvert_{x=2}\n",
    "$$"
   ]
  },
  {
   "cell_type": "code",
   "execution_count": 38,
   "metadata": {},
   "outputs": [
    {
     "name": "stdout",
     "output_type": "stream",
     "text": [
      "f(2) = -1.0\n",
      "df/dx for (x=2) is 1.0\n"
     ]
    }
   ],
   "source": [
    "x = tf.Variable([2], dtype=tf.float32)\n",
    "\n",
    "with tf.GradientTape() as tape:  # define a context, within which TensorFlow will record operations\n",
    "    tape.watch(x)  # monitor the operations involving the tensor x\n",
    "    f = x ** 2 - 3 * x + 1  # perform the operation inside the context\n",
    "\n",
    "df = tape.gradient(f, x)  # compute the gradiend of f w.r.t x (i.e. df/dx)\n",
    "\n",
    "print('f(2) =', f.numpy()[0])\n",
    "print('df/dx for (x=2) is', df.numpy()[0])"
   ]
  },
  {
   "cell_type": "markdown",
   "metadata": {},
   "source": [
    "As expected:\n",
    "\n",
    "$$\n",
    "\\frac{df}{dx}\\bigg\\rvert_{x=2} = 2x - 3\\rvert_{x=2} = 1\n",
    "$$\n",
    "\n",
    "TensorFlow watches all `tf.Variable`s by default so the `tape.watch(x)` commend was redundant before. Let's write it a bit better and do a few more computations."
   ]
  },
  {
   "cell_type": "code",
   "execution_count": 39,
   "metadata": {},
   "outputs": [
    {
     "data": {
      "text/plain": [
       "<matplotlib.legend.Legend at 0x7f564041d400>"
      ]
     },
     "execution_count": 39,
     "metadata": {},
     "output_type": "execute_result"
    },
    {
     "data": {
      "image/png": "[encoded data removed]",
      "text/plain": [
       "<Figure size 640x480 with 1 Axes>"
      ]
     },
     "metadata": {},
     "output_type": "display_data"
    }
   ],
   "source": [
    "def f(x):\n",
    "    return x ** 2 - 3 * x + 1\n",
    "\n",
    "x2 = tf.Variable(np.linspace(-5, 10, 100), dtype=tf.float32)\n",
    "\n",
    "with tf.GradientTape() as tape:\n",
    "    y = f(x2) \n",
    "\n",
    "dy = tape.gradient(y, x2)\n",
    "\n",
    "\n",
    "ax  = plt.subplot(111)\n",
    "ax.plot(x2.numpy(), y.numpy(), label='f (x)')\n",
    "ax.plot(x2.numpy(), dy.numpy(), label='f \\'(x)')\n",
    "\n",
    "ax.spines['top'].set_visible(False)\n",
    "ax.spines['right'].set_visible(False)\n",
    "ax.legend()"
   ]
  },
  {
   "cell_type": "markdown",
   "metadata": {},
   "source": [
    "If you want to disable this functionality and select specifically what `tf.GradientTape()` monitors, you can pass the argument `watch_accessed_variables=False` to its constructor. This can be useful when performing computations on large models, where you don't want to update some parameters."
   ]
  },
  {
   "cell_type": "code",
   "execution_count": 40,
   "metadata": {},
   "outputs": [
    {
     "name": "stdout",
     "output_type": "stream",
     "text": [
      "dy2/dx2 = None\n"
     ]
    }
   ],
   "source": [
    "with tf.GradientTape(watch_accessed_variables=False) as tape:\n",
    "    tape.watch(x)\n",
    "    y = f(x)\n",
    "    y2 = f(x2)  # not being recorded\n",
    "\n",
    "print('dy2/dx2 =', tape.gradient(y2, x2))"
   ]
  },
  {
   "cell_type": "markdown",
   "metadata": {},
   "source": [
    "This can be useful for saving memory, as no resources were allocated to store the operations involving `x2`.\n",
    "\n",
    "Explicitly telling `tf.GradientTape` what to watch requires a bit of caution because we need to make sure that the variable exists when we call `.watch()`. There are some scenarios where this might be tricky. One such example can be found at the `tf.GradientTape`'s [documentation page](https://www.tensorflow.org/api_docs/python/tf/GradientTape).\n",
    "\n",
    "`tf.GradientTape` holds its resources, by default, **only** until the `.gradient()` method is called. "
   ]
  },
  {
   "cell_type": "code",
   "execution_count": 41,
   "metadata": {},
   "outputs": [
    {
     "ename": "RuntimeError",
     "evalue": "A non-persistent GradientTape can only be used to compute one set of gradients (or jacobians)",
     "output_type": "error",
     "traceback": [
      "\u001b[0;31m---------------------------------------------------------------------------\u001b[0m",
      "\u001b[0;31mRuntimeError\u001b[0m                              Traceback (most recent call last)",
      "Cell \u001b[0;32mIn[41], line 5\u001b[0m\n\u001b[1;32m      2\u001b[0m     f \u001b[38;5;241m=\u001b[39m x \u001b[38;5;241m*\u001b[39m\u001b[38;5;241m*\u001b[39m \u001b[38;5;241m2\u001b[39m \u001b[38;5;241m-\u001b[39m \u001b[38;5;241m3\u001b[39m \u001b[38;5;241m*\u001b[39m x \u001b[38;5;241m+\u001b[39m \u001b[38;5;241m1\u001b[39m\n\u001b[1;32m      4\u001b[0m df \u001b[38;5;241m=\u001b[39m tape\u001b[38;5;241m.\u001b[39mgradient(f, x)\n\u001b[0;32m----> 5\u001b[0m df \u001b[38;5;241m=\u001b[39m \u001b[43mtape\u001b[49m\u001b[38;5;241;43m.\u001b[39;49m\u001b[43mgradient\u001b[49m\u001b[43m(\u001b[49m\u001b[43mf\u001b[49m\u001b[43m,\u001b[49m\u001b[43m \u001b[49m\u001b[43mx\u001b[49m\u001b[43m)\u001b[49m\n",
      "File \u001b[0;32m~/.envs/tf-env/lib64/python3.9/site-packages/tensorflow/python/eager/backprop.py:1052\u001b[0m, in \u001b[0;36mGradientTape.gradient\u001b[0;34m(self, target, sources, output_gradients, unconnected_gradients)\u001b[0m\n\u001b[1;32m   1012\u001b[0m \u001b[38;5;250m\u001b[39m\u001b[38;5;124;03m\"\"\"Computes the gradient using operations recorded in context of this tape.\u001b[39;00m\n\u001b[1;32m   1013\u001b[0m \n\u001b[1;32m   1014\u001b[0m \u001b[38;5;124;03mNote: Unless you set `persistent=True` a GradientTape can only be used to\u001b[39;00m\n\u001b[0;32m   (...)\u001b[0m\n\u001b[1;32m   1049\u001b[0m \u001b[38;5;124;03m   called with an unknown value.\u001b[39;00m\n\u001b[1;32m   1050\u001b[0m \u001b[38;5;124;03m\"\"\"\u001b[39;00m\n\u001b[1;32m   1051\u001b[0m \u001b[38;5;28;01mif\u001b[39;00m \u001b[38;5;28mself\u001b[39m\u001b[38;5;241m.\u001b[39m_tape \u001b[38;5;129;01mis\u001b[39;00m \u001b[38;5;28;01mNone\u001b[39;00m:\n\u001b[0;32m-> 1052\u001b[0m   \u001b[38;5;28;01mraise\u001b[39;00m \u001b[38;5;167;01mRuntimeError\u001b[39;00m(\u001b[38;5;124m\"\u001b[39m\u001b[38;5;124mA non-persistent GradientTape can only be used to \u001b[39m\u001b[38;5;124m\"\u001b[39m\n\u001b[1;32m   1053\u001b[0m                      \u001b[38;5;124m\"\u001b[39m\u001b[38;5;124mcompute one set of gradients (or jacobians)\u001b[39m\u001b[38;5;124m\"\u001b[39m)\n\u001b[1;32m   1054\u001b[0m \u001b[38;5;28;01mif\u001b[39;00m \u001b[38;5;28mself\u001b[39m\u001b[38;5;241m.\u001b[39m_recording:\n\u001b[1;32m   1055\u001b[0m   \u001b[38;5;28;01mif\u001b[39;00m \u001b[38;5;129;01mnot\u001b[39;00m \u001b[38;5;28mself\u001b[39m\u001b[38;5;241m.\u001b[39m_persistent:\n",
      "\u001b[0;31mRuntimeError\u001b[0m: A non-persistent GradientTape can only be used to compute one set of gradients (or jacobians)"
     ]
    }
   ],
   "source": [
    "with tf.GradientTape() as tape:\n",
    "    f = x ** 2 - 3 * x + 1\n",
    "\n",
    "df = tape.gradient(f, x)\n",
    "df = tape.gradient(f, x)  # won't work"
   ]
  },
  {
   "cell_type": "markdown",
   "metadata": {},
   "source": [
    "To create a persistent tape, whose `.gradient()` method can be called multiple times, pass the argument `persistent=True` to the tape."
   ]
  },
  {
   "cell_type": "code",
   "execution_count": 42,
   "metadata": {},
   "outputs": [],
   "source": [
    "with tf.GradientTape(persistent=True) as tape:\n",
    "    f = x ** 2 - 3 * x + 1\n",
    "\n",
    "df = tape.gradient(f, x)\n",
    "df = tape.gradient(f, x)"
   ]
  },
  {
   "cell_type": "markdown",
   "metadata": {},
   "source": [
    "To release the resources just drop all references to the tape so that it can be garbage collected."
   ]
  },
  {
   "cell_type": "code",
   "execution_count": 43,
   "metadata": {},
   "outputs": [],
   "source": [
    "del tape"
   ]
  },
  {
   "cell_type": "markdown",
   "metadata": {},
   "source": [
    "`tf.GradientTape` handles Python's control flow naturally. This can be confirmed through a few examples.  "
   ]
  },
  {
   "cell_type": "code",
   "execution_count": 44,
   "metadata": {},
   "outputs": [
    {
     "name": "stdout",
     "output_type": "stream",
     "text": [
      "All cleared!\n"
     ]
    }
   ],
   "source": [
    "# Loops\n",
    "with tf.GradientTape(persistent=True) as tape:\n",
    "    y1 = x * x * x * x * x   # x ** 5\n",
    "\n",
    "    y2 = 1\n",
    "    for _ in range(5):\n",
    "        y2 *= x              # same thing calculated iteratively in a for loop\n",
    "  \n",
    "    i = 0\n",
    "    y3 = 1\n",
    "    while i < 5:\n",
    "        y3 *= x              # same thing in a while loop\n",
    "        i += 1\n",
    "\n",
    "# Check if the 3 gradients are the same\n",
    "assert tape.gradient(y1, x) == tape.gradient(y2, x)\n",
    "assert tape.gradient(y1, x) == tape.gradient(y3, x)\n",
    "\n",
    "# Conditions\n",
    "with tf.GradientTape() as tape2:\n",
    "    y4 = 1\n",
    "    for i in range(10):\n",
    "        if i % 2:\n",
    "            y4 *= x  # only multiply for odd i's\n",
    "\n",
    "# We have 5 odd i's in the range [0, 9] (i.e. 1, 3, 5, 7, 9), so we expect\n",
    "# y4 = x * x * x * x * x. This means that y4 should be the same as y1\n",
    "assert tape.gradient(y1, x) == tape2.gradient(y4, x)\n",
    "\n",
    "# Recursion\n",
    "def rec(x, y=1, i=0):\n",
    "    '''\n",
    "    A dumb recursion that multiplies x with itself 5 times.\n",
    "    '''\n",
    "    if i < 5:\n",
    "        return rec(x, y*x, i+1)\n",
    "    else:\n",
    "        return y\n",
    "\n",
    "with tf.GradientTape() as tape3:\n",
    "    y5 = rec(x)\n",
    "\n",
    "# Since the recursion essentially did y5 = x * x * x * x * x, y5's gradient\n",
    "# should be the same as y1's.\n",
    "assert tape.gradient(y1, x) == tape3.gradient(y5, x)\n",
    "\n",
    "print('All cleared!')"
   ]
  },
  {
   "cell_type": "markdown",
   "metadata": {},
   "source": [
    "Another feature of `tf.GradientTape` is that it can record the computation of gradients. This means that if we nest two tape contexts and record the inner context's `.gradient()` we can compute **higher-order gradients**!\n",
    "\n",
    "We'll use the function \n",
    "\n",
    "$$\n",
    "f(x) = 5x^3 - 4x^2 + 2x - 3 \\\\\n",
    "\\frac{df}{dx} = 15x^2 - 8x + 2 \\\\\n",
    "\\frac{d^2f}{dx} = 30x - 8\n",
    "$$"
   ]
  },
  {
   "cell_type": "code",
   "execution_count": 45,
   "metadata": {},
   "outputs": [
    {
     "data": {
      "text/plain": [
       "<matplotlib.legend.Legend at 0x7f564008ef10>"
      ]
     },
     "execution_count": 45,
     "metadata": {},
     "output_type": "execute_result"
    },
    {
     "data": {
      "image/png": "[encoded data removed]",
      "text/plain": [
       "<Figure size 640x480 with 1 Axes>"
      ]
     },
     "metadata": {},
     "output_type": "display_data"
    }
   ],
   "source": [
    "def f(x):\n",
    "    return 5 * x ** 3 - 4 * x ** 2 + 2 ** x - 3\n",
    "\n",
    "x2 = tf.Variable(np.linspace(-5, 5, 100), dtype=tf.float32)\n",
    "\n",
    "with tf.GradientTape() as outer_tape:\n",
    "\n",
    "    with tf.GradientTape() as inner_tape:\n",
    "\n",
    "        y = f(x2)\n",
    "\n",
    "    dy = inner_tape.gradient(y, x2)  # compute the first-order derivative of y w.r.t x\n",
    "\n",
    "d2y = outer_tape.gradient(dy, x2)  # compute the second-order derivative of y w.r.t x\n",
    "\n",
    "ax  = plt.subplot(111)\n",
    "ax.plot(x2.numpy(), y.numpy(), label='f (x)')\n",
    "ax.plot(x2.numpy(), dy.numpy(), label='f \\'(x)')\n",
    "ax.plot(x2.numpy(), d2y.numpy(), label='f \\'\\'(x)')\n",
    "\n",
    "ax.spines['top'].set_visible(False)\n",
    "ax.spines['right'].set_visible(False)\n",
    "ax.legend()"
   ]
  },
  {
   "cell_type": "markdown",
   "metadata": {},
   "source": [
    "Another thing to keep in mind is that we can stop the recording of operations inside the context of a `tf.GradientTape()` with the `.stop_recording()` method, which is used as its own context.\n",
    "\n",
    "```python\n",
    "with tf.GradientTape() as tape:\n",
    "    y1 = f1(x)\n",
    "    with tape.stop_recording():\n",
    "        y2 = f2(x)  # this operation is not recorded\n",
    "    y3 = f3(x)\n",
    "```\n",
    "\n",
    "This can be useful to save memory."
   ]
  }
 ],
 "metadata": {
  "accelerator": "GPU",
  "colab": {
   "authorship_tag": "ABX9TyP87Qinm/KeQGB6t1IVYdvn",
   "collapsed_sections": [],
   "name": "01_tensors_and_low_level_ops.ipynb",
   "provenance": []
  },
  "kernelspec": {
   "display_name": "Python 3 (ipykernel)",
   "language": "python",
   "name": "python3"
  },
  "language_info": {
   "codemirror_mode": {
    "name": "ipython",
    "version": 3
   },
   "file_extension": ".py",
   "mimetype": "text/x-python",
   "name": "python",
   "nbconvert_exporter": "python",
   "pygments_lexer": "ipython3",
   "version": "3.9.13"
  }
 },
 "nbformat": 4,
 "nbformat_minor": 1
}
