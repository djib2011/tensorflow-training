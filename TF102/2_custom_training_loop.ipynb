{
 "cells": [
  {
   "cell_type": "markdown",
   "metadata": {
    "colab_type": "text",
    "id": "fKCSJOez9Tx4"
   },
   "source": [
    "# 2. Custom training\n",
    "\n",
    "In TF101 we saw how we can define and train models through the Keras API. This is very convenient, but in some cases can be limiting. In this notebook we'll see how we can (a) build custom Neural Networks without involving Keras at all and (b) train these models without keras' `model.fit()` API."
   ]
  },
  {
   "cell_type": "code",
   "execution_count": 1,
   "metadata": {},
   "outputs": [
    {
     "name": "stderr",
     "output_type": "stream",
     "text": [
      "2023-04-16 23:11:27.981074: I tensorflow/core/platform/cpu_feature_guard.cc:193] This TensorFlow binary is optimized with oneAPI Deep Neural Network Library (oneDNN) to use the following CPU instructions in performance-critical operations:  AVX2 FMA\n",
      "To enable them in other operations, rebuild TensorFlow with the appropriate compiler flags.\n",
      "2023-04-16 23:11:28.120871: W tensorflow/compiler/xla/stream_executor/platform/default/dso_loader.cc:64] Could not load dynamic library 'libcudart.so.11.0'; dlerror: libcudart.so.11.0: cannot open shared object file: No such file or directory\n",
      "2023-04-16 23:11:28.120888: I tensorflow/compiler/xla/stream_executor/cuda/cudart_stub.cc:29] Ignore above cudart dlerror if you do not have a GPU set up on your machine.\n",
      "2023-04-16 23:11:28.785922: W tensorflow/compiler/xla/stream_executor/platform/default/dso_loader.cc:64] Could not load dynamic library 'libnvinfer.so.7'; dlerror: libnvinfer.so.7: cannot open shared object file: No such file or directory\n",
      "2023-04-16 23:11:28.785984: W tensorflow/compiler/xla/stream_executor/platform/default/dso_loader.cc:64] Could not load dynamic library 'libnvinfer_plugin.so.7'; dlerror: libnvinfer_plugin.so.7: cannot open shared object file: No such file or directory\n",
      "2023-04-16 23:11:28.785991: W tensorflow/compiler/tf2tensorrt/utils/py_utils.cc:38] TF-TRT Warning: Cannot dlopen some TensorRT libraries. If you would like to use Nvidia GPU with TensorRT, please make sure the missing libraries mentioned above are installed properly.\n"
     ]
    }
   ],
   "source": [
    "import tensorflow as tf\n",
    "assert tf.__version__[0] == '2', 'this tutorial is for tensorflow versions of 2 or higher'\n",
    "\n",
    "import time\n",
    "import numpy as np\n",
    "from sklearn.datasets import make_moons\n",
    "import matplotlib.pyplot as plt\n",
    "%matplotlib inline"
   ]
  },
  {
   "cell_type": "markdown",
   "metadata": {},
   "source": [
    "## Building Neural Networks in TensorFlow (w/o Keras) \n",
    "\n",
    "Mimicking what we did in the first TF101 notebook, we'll try to recreate the same MLP and train it on the moons dataset.\n",
    "\n",
    "First let's define the dataset. We'll change things a little bit though, to make the scenario more realistic. In large scale applications we cannot afford loading the whole training set in memory. Instead we have a generator producing a single batch at a time. This is the topic of the next notebook, though we will do our best to simulate this behavior in the moons dataset."
   ]
  },
  {
   "cell_type": "code",
   "execution_count": 2,
   "metadata": {},
   "outputs": [],
   "source": [
    "np.random.seed(13)\n",
    "\n",
    "\n",
    "def moons_generator(batch_size=32, noise=0.2):\n",
    "    '''\n",
    "    Generator for producing a batch of 'moons' data\n",
    "    '''\n",
    "    while True:\n",
    "        yield make_moons(batch_size, noise=noise)\n",
    "    \n",
    "    \n",
    "x_train = moons_generator()\n",
    "x_test = moons_generator()\n",
    "# The names x_train and x_test are not accurate as these \n",
    "# generators return the labels along with the input features"
   ]
  },
  {
   "cell_type": "markdown",
   "metadata": {},
   "source": [
    "The model we defined in keras is the following:\n",
    "\n",
    "```python\n",
    "inp = tf.keras.layers.Input(shape=(2,)) \n",
    "hid = tf.keras.layers.Dense(30, activation='relu')(inp)\n",
    "out = tf.keras.layers.Dense(1, activation='sigmoid')(hid)\n",
    "\n",
    "mlp = tf.keras.models.Model(inp, out)\n",
    "```\n",
    "\n",
    "To recreate this in TensorFlow, we need to know that the `Dense` layer essentially performs the following operation\n",
    "\n",
    "$$\n",
    "z = f (X \\cdot W + b)\n",
    "$$\n",
    "\n",
    "So, in turn the whole network does the following\n",
    "\n",
    "$$\n",
    "h = \\text{ReLU} (X \\cdot W_h + b_h) \\\\\n",
    "\\hat y = \\sigma (h \\cdot W_o + b_o)\n",
    "$$\n",
    "\n",
    "where $W_h, b_h, W_o, b_o$ are the weight and biases of the hidden and output layers respectively and $X$ is the model's input."
   ]
  },
  {
   "cell_type": "code",
   "execution_count": 3,
   "metadata": {},
   "outputs": [
    {
     "name": "stdout",
     "output_type": "stream",
     "text": [
      "Predictions:\n",
      "tf.Tensor(\n",
      "[[0.93362725]\n",
      " [0.7597806 ]\n",
      " [0.50926185]\n",
      " [0.96909326]\n",
      " [0.9815643 ]\n",
      " [0.951013  ]\n",
      " [0.97385806]\n",
      " [0.6870211 ]\n",
      " [0.9766229 ]\n",
      " [0.6125538 ]\n",
      " [0.9129326 ]\n",
      " [0.94532955]\n",
      " [0.951406  ]\n",
      " [0.92570126]\n",
      " [0.8948641 ]\n",
      " [0.68440527]\n",
      " [0.7504297 ]\n",
      " [0.977184  ]\n",
      " [0.59780157]\n",
      " [0.8162962 ]\n",
      " [0.6382722 ]\n",
      " [0.9724078 ]\n",
      " [0.964869  ]\n",
      " [0.93438154]\n",
      " [0.5921625 ]\n",
      " [0.9243256 ]\n",
      " [0.9424068 ]\n",
      " [0.82952744]\n",
      " [0.9826905 ]\n",
      " [0.5754374 ]\n",
      " [0.7600825 ]\n",
      " [0.9289852 ]], shape=(32, 1), dtype=float32)\n",
      "Labels:\n",
      "[1 0 0 1 1 0 1 1 1 0 1 1 0 1 0 0 0 1 0 0 0 1 1 0 0 1 0 0 1 0 1 1]\n"
     ]
    },
    {
     "name": "stderr",
     "output_type": "stream",
     "text": [
      "2023-04-16 23:11:30.167677: W tensorflow/compiler/xla/stream_executor/platform/default/dso_loader.cc:64] Could not load dynamic library 'libcuda.so.1'; dlerror: libcuda.so.1: cannot open shared object file: No such file or directory\n",
      "2023-04-16 23:11:30.167697: W tensorflow/compiler/xla/stream_executor/cuda/cuda_driver.cc:265] failed call to cuInit: UNKNOWN ERROR (303)\n",
      "2023-04-16 23:11:30.167714: I tensorflow/compiler/xla/stream_executor/cuda/cuda_diagnostics.cc:156] kernel driver does not appear to be running on this host (home): /proc/driver/nvidia/version does not exist\n",
      "2023-04-16 23:11:30.167944: I tensorflow/core/platform/cpu_feature_guard.cc:193] This TensorFlow binary is optimized with oneAPI Deep Neural Network Library (oneDNN) to use the following CPU instructions in performance-critical operations:  AVX2 FMA\n",
      "To enable them in other operations, rebuild TensorFlow with the appropriate compiler flags.\n"
     ]
    }
   ],
   "source": [
    "tf.random.set_seed(13)\n",
    "\n",
    "# Hidden layer parameters\n",
    "W_h = tf.Variable(tf.random.normal(shape=(2, 30)))  # shape=(input_features, hidden_layer_neurons)\n",
    "b_h = tf.Variable(tf.random.normal(shape=(1, 30)))\n",
    "\n",
    "# Output layer parameters\n",
    "W_o = tf.Variable(tf.random.normal(shape=(30, 1)))  # shape=(hidden_layer_neurons, output)\n",
    "b_o = tf.Variable(tf.random.normal(shape=(1, 1)))\n",
    "\n",
    "# Create a list of all of the model's trainable parameters\n",
    "trainable_params = [W_h, b_h, W_o, b_o]\n",
    "\n",
    "\n",
    "# Hidden layer operations\n",
    "def hidden(x):\n",
    "    return tf.math.sigmoid(x @ W_h + b_h)  # @ --> matmul operator\n",
    "\n",
    "\n",
    "# Output layer operations\n",
    "def output(x):\n",
    "    return tf.math.sigmoid(x @ W_o + b_o)\n",
    "\n",
    "\n",
    "# Get a batch from the generator\n",
    "x, y = next(x_train)\n",
    "\n",
    "\n",
    "# Run predictions for random weights\n",
    "hidden_layer_outputs = hidden(x)\n",
    "y_hat = output(hidden_layer_outputs)\n",
    "\n",
    "print('Predictions:')\n",
    "print(y_hat)\n",
    "print('Labels:')\n",
    "print(y)"
   ]
  },
  {
   "cell_type": "markdown",
   "metadata": {},
   "source": [
    "Let's measure the accuracy of this untrained classifier."
   ]
  },
  {
   "cell_type": "code",
   "execution_count": 4,
   "metadata": {},
   "outputs": [
    {
     "name": "stdout",
     "output_type": "stream",
     "text": [
      "Initial accuracy: 50.00%\n"
     ]
    }
   ],
   "source": [
    "# Define accuracy function\n",
    "def accuracy(y_true, y_pred):\n",
    "    bin_preds = (y_pred > 0.5).numpy().astype(int).flatten()\n",
    "    return np.sum(y_true == bin_preds) / len(y_true) \n",
    "\n",
    "# Compute the accuracy of the random classifier\n",
    "acc = accuracy(y, y_hat)\n",
    "print('Initial accuracy: {:.2f}%'.format(acc*100))"
   ]
  },
  {
   "cell_type": "markdown",
   "metadata": {},
   "source": [
    "### Training our model\n",
    "\n",
    "To make our life easier we'll define two functions to assist us during training and prediction. These two will perform the **forward** and **backward passes** for our network. The forward pass is the procedure that generates the prediction out of an input (i.e. the whole series of transformations from the beginning to the end of the network). The backward pass is the computation of the gradients of the loss w.r.t each one of the model's parameters."
   ]
  },
  {
   "cell_type": "code",
   "execution_count": 5,
   "metadata": {},
   "outputs": [],
   "source": [
    "def bce(y_true, y_pred):\n",
    "    '''\n",
    "    Compute the binary cross-entropy between y_true and y_pred\n",
    "    '''\n",
    "    return -tf.math.reduce_mean(y_true * tf.math.log(y_pred) + (1 - y_true) * tf.math.log(1 - y_pred))\n",
    "\n",
    "\n",
    "def forward(x):\n",
    "    '''\n",
    "    Gererate the prediction for an input tensor x\n",
    "    '''\n",
    "    return output(hidden(x))\n",
    "\n",
    "\n",
    "def backward(x, y):\n",
    "    '''\n",
    "    Compute the gradients for the loss w.r.t the model's trainable parameters,\n",
    "    for an input tensor x\n",
    "    '''\n",
    "    with tf.GradientTape() as tape:\n",
    "        y_hat = forward(x)\n",
    "        loss = bce(y, y_hat)\n",
    "    return tape.gradient(loss, trainable_params), loss"
   ]
  },
  {
   "cell_type": "markdown",
   "metadata": {},
   "source": [
    "Let's run `backward()` to see what we get."
   ]
  },
  {
   "cell_type": "code",
   "execution_count": 6,
   "metadata": {},
   "outputs": [
    {
     "data": {
      "text/plain": [
       "([<tf.Tensor: shape=(2, 30), dtype=float32, numpy=\n",
       "  array([[-6.6126473e-02,  5.0442852e-02, -3.8183581e-02, -6.3892296e-03,\n",
       "           6.5928483e-03, -6.5499179e-02, -5.8066577e-02,  7.2945543e-02,\n",
       "          -5.2423910e-03, -7.0356302e-02,  4.7018182e-02, -6.3370340e-02,\n",
       "           2.7766356e-02, -8.9933688e-04,  1.1129200e-01, -1.3603233e-02,\n",
       "           8.8072853e-04,  2.1455297e-03,  1.4358440e-02, -3.9317971e-04,\n",
       "          -1.6874094e-02,  8.0551594e-02, -4.9527781e-03, -1.0886554e-02,\n",
       "          -5.7324495e-02,  1.4620623e-01,  1.2801398e-02, -2.2883579e-02,\n",
       "          -2.7264878e-03,  1.4228658e-03],\n",
       "         [-5.0796550e-03,  1.9862784e-02, -1.7627474e-02, -4.2240610e-03,\n",
       "           1.1561638e-03, -1.1534214e-02, -1.1625479e-02,  1.1771051e-02,\n",
       "          -1.2442167e-03, -5.3826235e-03,  1.4663624e-02, -1.2313918e-03,\n",
       "           6.1133262e-03, -4.3967398e-04,  2.0463310e-02, -2.5429826e-03,\n",
       "           5.6145922e-04,  6.3758274e-04,  2.6986217e-03, -7.4419848e-05,\n",
       "          -5.7204477e-03,  7.7386936e-03, -2.1440526e-03, -3.5172943e-03,\n",
       "          -1.0464095e-02,  2.7944079e-02,  1.8502386e-02, -1.3062207e-02,\n",
       "          -4.5162989e-04,  7.1477611e-04]], dtype=float32)>,\n",
       "  <tf.Tensor: shape=(1, 30), dtype=float32, numpy=\n",
       "  array([[-0.06597981,  0.07494881, -0.06480771, -0.01362297,  0.01328863,\n",
       "          -0.07568298, -0.07104543,  0.08547492, -0.00698605, -0.07436064,\n",
       "           0.0862388 , -0.05801184,  0.03335883, -0.00264366,  0.13358016,\n",
       "          -0.01392157,  0.0019362 ,  0.00257828,  0.01692797, -0.00046404,\n",
       "          -0.03090856,  0.08068788, -0.01073005, -0.01654148, -0.06673723,\n",
       "           0.17008667,  0.04204392, -0.04529827, -0.00365338,  0.00312688]],\n",
       "        dtype=float32)>,\n",
       "  <tf.Tensor: shape=(30, 1), dtype=float32, numpy=\n",
       "  array([[0.11146979],\n",
       "         [0.22540718],\n",
       "         [0.08391993],\n",
       "         [0.26266086],\n",
       "         [0.30758634],\n",
       "         [0.17708369],\n",
       "         [0.15489025],\n",
       "         [0.17128007],\n",
       "         [0.14238176],\n",
       "         [0.14126   ],\n",
       "         [0.07672643],\n",
       "         [0.0924576 ],\n",
       "         [0.19061649],\n",
       "         [0.28798947],\n",
       "         [0.17933327],\n",
       "         [0.09037542],\n",
       "         [0.06291863],\n",
       "         [0.13789609],\n",
       "         [0.16329867],\n",
       "         [0.14245547],\n",
       "         [0.05740597],\n",
       "         [0.20876722],\n",
       "         [0.07743511],\n",
       "         [0.2350351 ],\n",
       "         [0.17445938],\n",
       "         [0.15892853],\n",
       "         [0.28610376],\n",
       "         [0.09076645],\n",
       "         [0.2656054 ],\n",
       "         [0.29136914]], dtype=float32)>,\n",
       "  <tf.Tensor: shape=(1, 1), dtype=float32, numpy=array([[0.3392592]], dtype=float32)>],\n",
       " <tf.Tensor: shape=(), dtype=float32, numpy=1.2646654>)"
      ]
     },
     "execution_count": 6,
     "metadata": {},
     "output_type": "execute_result"
    }
   ],
   "source": [
    "grads = backward(x, y)\n",
    "grads"
   ]
  },
  {
   "cell_type": "markdown",
   "metadata": {},
   "source": [
    "Essentially, we get a derivative for each parameter of the network. To train our, we'll use [**gradient descent**](https://en.wikipedia.org/wiki/Gradient_descent). The idea is to compute the partial derivative of the loss w.r.t the model's parameters (what we have done with the `GradientTape`) and update the parameters according to their partial derivative.\n",
    "\n",
    "$$\n",
    "w \\leftarrow w - \\lambda \\frac{\\partial L(y, \\hat y)}{\\partial w}\n",
    "$$\n",
    "\n",
    "where $w$ is a weight in the netowrk, $L$ is our loss function (BCE in our case) and $\\lambda$ is the learning rate.\n",
    "\n",
    "Note that the partial derivative of $L$ w.r.t $w$ shows the *direction* that $w$ needs to be changed to increase the loss the most. The opposite (i.e. $- \\partial L / \\partial w$), shows how to decrease the loss the most. That's why we want to update our parameters in that direction. "
   ]
  },
  {
   "cell_type": "code",
   "execution_count": 7,
   "metadata": {},
   "outputs": [],
   "source": [
    "def gd_update(trainable_parameters, gradients, lr=0.1):\n",
    "    '''\n",
    "    Apply a single step of Gradient Descent to the model's trainable parameters.\n",
    "    \n",
    "    i.e. \n",
    "    \n",
    "        param = param - lr * grad \n",
    "    \n",
    "    for every param, grad pair\n",
    "    '''\n",
    "    \n",
    "    for p, g in zip(trainable_params, gradients):\n",
    "        p.assign_sub(lr * g)"
   ]
  },
  {
   "cell_type": "markdown",
   "metadata": {},
   "source": [
    "now we have all the components we need to build a custom training loop.\n",
    "\n",
    "## Custom training loops\n",
    "\n",
    "In TF101 we saw how we can easily train keras models through the `.fit()` API. This API essentially manages to **hide the training loop** from us, which is done intentionally to simplify the process of training Neural Networks.\n",
    "\n",
    "What would normally be\n",
    "\n",
    "```python\n",
    "for e in range(epochs):\n",
    "    for x, y in zip(x_train, y_train):\n",
    "        # ...\n",
    "        # train on batch\n",
    "        # ...\n",
    "```\n",
    "\n",
    "in Keras becomes\n",
    "\n",
    "```python\n",
    "model.fit(x_train, y_train, epochs=epochs)\n",
    "```\n",
    "\n",
    "While this achieves a great deal of simplicity, it comes in the expense of **control**. To affect some aspects of the training process (e.g. learning rate) or to monitor variables, we need to use one of the existing or write a custom callback.\n",
    "\n",
    "Still there are limitations to what we can affect or monitor through the use of callbacks! For this reason, in some cases we might want to train the model in a custom loop, where we have full control.\n",
    "\n",
    "The fundamental steps we need to perform **at each iteration** are:\n",
    "\n",
    "1. Generate the training **batch** (samples + labels).\n",
    "2. Perform the **forward pass** and get the model's **predictions** for this batch.\n",
    "3. Calculate the **loss** of these predictions compared to the actual labels.\n",
    "4. Compute the loss' **gradients** w.r.t the model's trainable parameters (i.e. **backprop**).\n",
    "5. **Update** the model's parameters according to the gradients (i.e. use the **optimizer**)."
   ]
  },
  {
   "cell_type": "code",
   "execution_count": 8,
   "metadata": {},
   "outputs": [],
   "source": [
    "epochs = 20\n",
    "steps_per_epoch = 10  # this normally is the amount of steps \n",
    "                      # it takes to exhaust the training set\n",
    "val_steps_per_epoch = 5   # same but for the validataion set\n",
    "learning_rate = 0.1\n",
    "metrics = {'loss': [], 'val_loss': [], 'val_accuracy': []}\n",
    "\n",
    "\n",
    "for e in range(epochs):\n",
    "    \n",
    "    # Here we normally would shuffle the training set\n",
    "    \n",
    "    # Training \n",
    "    for step in range(steps_per_epoch):\n",
    "        \n",
    "        x, y = next(x_train)  # get next batch from generator\n",
    "        \n",
    "        grads, loss = backward(x, y)  # forward and backward passes\n",
    "        \n",
    "        gd_update(trainable_params, grads, learning_rate)  # parameter updates\n",
    "        \n",
    "        metrics['loss'].append(loss.numpy())\n",
    "        \n",
    "        \n",
    "    # Validataion\n",
    "    for step in range(val_steps_per_epoch):\n",
    "        tmp_loss, tmp_acc = [], []\n",
    "        \n",
    "        x, y = next(x_test)  # get batch from validataion data generator\n",
    "        \n",
    "        y_hat = forward(x)  # get the model's predicions\n",
    "        \n",
    "        # Compute the loss and accuracy for this batch\n",
    "        tmp_loss.append(bce(y, y_hat).numpy())\n",
    "        tmp_acc.append(accuracy(y, y_hat))\n",
    "        \n",
    "    # Aggregate over all batches    \n",
    "    metrics['val_loss'].append(np.mean(tmp_loss))\n",
    "    metrics['val_accuracy'].append(np.mean(tmp_acc))"
   ]
  },
  {
   "cell_type": "code",
   "execution_count": 9,
   "metadata": {},
   "outputs": [
    {
     "data": {
      "text/plain": [
       "Text(0.5, 1.0, 'Loss progression thourgh training')"
      ]
     },
     "execution_count": 9,
     "metadata": {},
     "output_type": "execute_result"
    },
    {
     "data": {
      "image/png": "[encoded data removed]",
      "text/plain": [
       "<Figure size 640x480 with 1 Axes>"
      ]
     },
     "metadata": {},
     "output_type": "display_data"
    }
   ],
   "source": [
    "plt.plot(range(0, epochs * steps_per_epoch), metrics['loss'], label='train')\n",
    "plt.plot(range(0, epochs * steps_per_epoch, steps_per_epoch), metrics['val_loss'], label='validation')\n",
    "\n",
    "plt.xlabel('Training step')\n",
    "plt.ylabel('Loss')\n",
    "plt.title('Loss progression thourgh training')"
   ]
  },
  {
   "cell_type": "markdown",
   "metadata": {},
   "source": [
    "Obvisouly, we don't need to do everything from scratch (defining the loss function, doing the weight udpates, etc.). We can combine the flexibility of the custom training loop with the ease of defining models the Keras way."
   ]
  },
  {
   "cell_type": "code",
   "execution_count": 10,
   "metadata": {},
   "outputs": [],
   "source": [
    "inp = tf.keras.layers.Input(shape=(2,)) \n",
    "hid = tf.keras.layers.Dense(30, activation='relu')(inp)\n",
    "out = tf.keras.layers.Dense(1, activation='sigmoid')(hid)\n",
    "\n",
    "mlp = tf.keras.models.Model(inp, out)"
   ]
  },
  {
   "cell_type": "markdown",
   "metadata": {},
   "source": [
    "Let's start building the training logic. We'll first define a function that does a single training step for our model."
   ]
  },
  {
   "cell_type": "code",
   "execution_count": 11,
   "metadata": {},
   "outputs": [],
   "source": [
    "# Instead of defining the loss function, metrics, etc. ourselves we'll use the Keras ones\n",
    "\n",
    "loss_function = tf.keras.losses.binary_crossentropy\n",
    "optimizer = tf.keras.optimizers.Adam()\n",
    "accuracy = tf.keras.metrics.BinaryAccuracy(threshold=0.5)\n",
    "# The metrics in Keras have some big differences to the one we defined on our own, \n",
    "# but we'll ignore them for now...\n",
    "\n",
    "\n",
    "# We'll now define a function that performs a single training step. We don't\n",
    "# need to apply the tf.function decorator here, because this function isn't \n",
    "# intended to be a top-level function (i.e. it will be called from another).\n",
    "def train_on_batch(x, y):\n",
    "    '''\n",
    "    Will train 'mlp' as defined in the global scope for a single training batch.\n",
    "    The optimizer and loss function will also be taken from the global scope.\n",
    "    '''\n",
    "    \n",
    "    # Start monitoring the operations in order to compute the gradient:\n",
    "    with tf.GradientTape() as tape:\n",
    "\n",
    "        # Generate the model's prediction:\n",
    "        y_hat = mlp(x)\n",
    "\n",
    "        # Calculate its loss:\n",
    "        loss = loss_function(y, y_hat)\n",
    "\n",
    "    # Compute the gradient of the loss w.r.t the model's parameters\n",
    "    grads = tape.gradient(loss, mlp.trainable_variables)\n",
    "\n",
    "    # Update the model's parameters through the optimizer\n",
    "    optimizer.apply_gradients(zip(grads, mlp.trainable_variables))\n",
    "\n",
    "    # Store the batch's accuracy\n",
    "    acc = accuracy(tf.squeeze(y), tf.squeeze(y_hat))\n",
    "\n",
    "    # Get the batch's loss so that we can plot it later\n",
    "    return tf.reduce_mean(loss), tf.reduce_mean(acc)"
   ]
  },
  {
   "cell_type": "markdown",
   "metadata": {},
   "source": [
    "Now we'll write a function that uses the previous to train the model for a number of epochs."
   ]
  },
  {
   "cell_type": "code",
   "execution_count": 12,
   "metadata": {},
   "outputs": [],
   "source": [
    "@tf.function\n",
    "def train(train_data, epochs, validation_data=None):\n",
    "    '''\n",
    "    Train 'mlp' as defined in the global scope for a number of epochs, on a \n",
    "    given dataset. \n",
    "    '''\n",
    "\n",
    "    for e in range(epochs):\n",
    "\n",
    "        tf.print('Epoch {} of {}'.format(e+1, epochs))\n",
    "    \n",
    "        loss = 0.\n",
    "        acc = 0.\n",
    "\n",
    "        # Training epoch:\n",
    "        for i, (x, y) in enumerate(train_data):\n",
    "\n",
    "            # Perform a single iteration\n",
    "            loss, acc = train_on_batch(x, y.reshape(-1, 1))\n",
    "\n",
    "            # We need to manually keep track of the iteration,\n",
    "            # because this generator will loop forever \n",
    "            if i >= steps_per_epoch:\n",
    "                break\n",
    "\n",
    "            if i % 100 == 0:\n",
    "                tf.print('    Iteration:', i)\n",
    "                tf.print('        Training loss:', loss)\n",
    "                tf.print('        Training acc:', acc)\n",
    "\n",
    "        if validation_data:\n",
    "\n",
    "            valid_acc = 0.\n",
    "\n",
    "            # Iterate over the validation set:\n",
    "            for i, (x, y) in enumerate(validation_data):\n",
    "\n",
    "                # Make a prediction and compute the mean of the accuracy and the loss\n",
    "                preds = mlp(x)\n",
    "\n",
    "                # Compute the mean accuracy of each batch and add them to 'valid_acc'\n",
    "                valid_acc += accuracy(y, preds)\n",
    "\n",
    "                # Again keep track of the iteration in order to terminate the loop\n",
    "                if i >= val_steps_per_epoch:\n",
    "                    break\n",
    "\n",
    "            tf.print('    Validation accuracy:', valid_acc / tf.cast(i, tf.float32))"
   ]
  },
  {
   "cell_type": "code",
   "execution_count": 13,
   "metadata": {},
   "outputs": [
    {
     "name": "stdout",
     "output_type": "stream",
     "text": [
      "Epoch 1 of 10\n",
      "    Iteration: 0\n",
      "        Training loss: 0.782895923\n",
      "        Training acc: 0.15625\n",
      "    Validation accuracy: 0.31296739\n",
      "Epoch 2 of 10\n",
      "    Iteration: 0\n",
      "        Training loss: 0.7483868\n",
      "        Training acc: 0.263888896\n",
      "    Validation accuracy: 0.367396921\n",
      "Epoch 3 of 10\n",
      "    Iteration: 0\n",
      "        Training loss: 0.716344833\n",
      "        Training acc: 0.316964298\n",
      "    Validation accuracy: 0.434734792\n",
      "Epoch 4 of 10\n",
      "    Iteration: 0\n",
      "        Training loss: 0.693190455\n",
      "        Training acc: 0.373197109\n",
      "    Validation accuracy: 0.486119419\n",
      "Epoch 5 of 10\n",
      "    Iteration: 0\n",
      "        Training loss: 0.670165539\n",
      "        Training acc: 0.413949281\n",
      "    Validation accuracy: 0.541246414\n",
      "Epoch 6 of 10\n",
      "    Iteration: 0\n",
      "        Training loss: 0.649497628\n",
      "        Training acc: 0.459665686\n",
      "    Validation accuracy: 0.591187537\n",
      "Epoch 7 of 10\n",
      "    Iteration: 0\n",
      "        Training loss: 0.618050575\n",
      "        Training acc: 0.499696612\n",
      "    Validation accuracy: 0.631009281\n",
      "Epoch 8 of 10\n",
      "    Iteration: 0\n",
      "        Training loss: 0.599900424\n",
      "        Training acc: 0.532031238\n",
      "    Validation accuracy: 0.66367805\n",
      "Epoch 9 of 10\n",
      "    Iteration: 0\n",
      "        Training loss: 0.589272082\n",
      "        Training acc: 0.557938\n",
      "    Validation accuracy: 0.688966632\n",
      "Epoch 10 of 10\n",
      "    Iteration: 0\n",
      "        Training loss: 0.538722575\n",
      "        Training acc: 0.578733742\n",
      "    Validation accuracy: 0.711734951\n"
     ]
    }
   ],
   "source": [
    "train(x_train, epochs=10, validation_data=x_test)"
   ]
  },
  {
   "cell_type": "markdown",
   "metadata": {},
   "source": [
    "## TensorBoard and custom training loops\n",
    "\n",
    "Training with a custom training loop gives us a greater flexibility in choosing what to log to TensorBoard and when. To log stuff to tensorboard, we use the `tf.summary` API.\n",
    "\n",
    "There are two steps we need to do to use this API:\n",
    "1. create a summary file writer\n",
    "2. add the thing you want to log to this writer\n",
    "\n",
    "`tf.summary` has different functions for the different things we want to write to TensorBoard, such as:\n",
    "- `tf.summary.scalar`: log scalar values (e.g. metrics, losses).\n",
    "- `tf.summary.histogram`: log histograms (e.g. histogram of weights, activations).\n",
    "- `tf.summary.image`: log images. Can be used to log the output of generative models or even input images to see what the augmentations we are using actually look like.\n",
    "- `tf.summary.text`: log text. Can be used in similar situations as the above.\n",
    "- `tf.summary.audio`: log audio. Can be used in similar situations as the above.\n",
    "- `tf.summary.graph`: log the TF computational graph. \n",
    "\n",
    "Let's see how these work. First we need to create the summary writer."
   ]
  },
  {
   "cell_type": "code",
   "execution_count": 14,
   "metadata": {},
   "outputs": [],
   "source": [
    "summary_writer = tf.summary.create_file_writer('logs/custom_loop')"
   ]
  },
  {
   "cell_type": "markdown",
   "metadata": {},
   "source": [
    "### Logging scalars\n",
    "\n",
    "The most common thing we want to log is scalar values. These can be losses, metrics or anything else we might want to log. \n",
    "\n",
    "In the example below we'll log 3 things:\n",
    "- The value of the loss at each iteration\n",
    "- The accuracy of our model at each iteration $^1$\n",
    "- The value of the learning rate at each iteration. We will define an exponential decaying learning rate, so that we have something other than a constant line to plot.\n",
    "\n",
    "$^1$ *Technically the Keras accuracy metric doesn't do exactly that; we'll explore this in a future notebook. For now let's assume that this is what it returns.*"
   ]
  },
  {
   "cell_type": "code",
   "execution_count": 15,
   "metadata": {},
   "outputs": [],
   "source": [
    "# Re-initialize the components\n",
    "loss_function = tf.keras.losses.binary_crossentropy\n",
    "optimizer = tf.keras.optimizers.Adam()\n",
    "accuracy = tf.keras.metrics.BinaryAccuracy(threshold=0.5)\n",
    "\n",
    "\n",
    "# Define an exponentially decaying LR\n",
    "def build_exponentially_decayed_lr_func(initial_lr, decay_rate, decay_steps):\n",
    "    '''\n",
    "    Builds a function that given a training step, returns the value of the LR\n",
    "    '''\n",
    "    def lr_func(step):\n",
    "        return initial_lr * decay_rate ** (step / decay_steps)\n",
    "\n",
    "    return lr_func\n",
    "\n",
    "\n",
    "lr_schedule = build_exponentially_decayed_lr_func(initial_lr=0.1, \n",
    "                                                  decay_rate=0.01,\n",
    "                                                  decay_steps=100)\n",
    "\n",
    "\n",
    "def log_scalars(loss, accuracy, lr, step):\n",
    "    '''\n",
    "    Log our metrics as scalars to the summary writer\n",
    "    '''\n",
    "    with summary_writer.as_default():\n",
    "        tf.summary.scalar('loss', loss, step=step)\n",
    "        tf.summary.scalar('accuracy', accuracy, step=step)\n",
    "        tf.summary.scalar('learning_rate', lr, step=step)"
   ]
  },
  {
   "cell_type": "markdown",
   "metadata": {},
   "source": [
    "This would play out something like this in our training loop:\n",
    "\n",
    "```python\n",
    "# Dummy training loop\n",
    "for i, (x, y) in enumerate(x_train):\n",
    "\n",
    "\n",
    "    lr = lr_schedule(i)                 # get new value of LR\n",
    "    optimizer.learning_rate.assign(lr)  # change optimizer's LR\n",
    "\n",
    "    loss, acc = train_on_batch(x, y.reshape(-1, 1))\n",
    "\n",
    "    log_scalars(loss, acc, lr, i)  # log the scalars\n",
    "\n",
    "    # Finish training after 100 steps\n",
    "    if i >= 100:\n",
    "        break\n",
    "```\n",
    "\n",
    "\n",
    "### Logging images\n",
    "\n",
    "Another interesting thing we can do is to log actual images in TensorBoard. This is more useful in generative models that produce images. Nevertheless there can be other situations where this might be useful. In this example we'll plot a confusion matrix for our model and log it.\n",
    "\n",
    "The example was adapted from [this blog](https://towardsdatascience.com/a-quickstart-guide-to-tensorboard-fb1ade69bbcf)."
   ]
  },
  {
   "cell_type": "code",
   "execution_count": 16,
   "metadata": {},
   "outputs": [],
   "source": [
    "from sklearn.metrics import confusion_matrix\n",
    "import itertools\n",
    "import io\n",
    "\n",
    "\n",
    "def plot_to_image(figure):\n",
    "    '''\n",
    "    Convert a matplotlib Figure to a png image\n",
    "    '''\n",
    "    buf = io.BytesIO()\n",
    "    plt.savefig(buf, format='png')\n",
    "    plt.close(figure)                    # Closing the figure prevents it from \n",
    "                                         # being displayed directly inside the notebook.\n",
    "    buf.seek(0)\n",
    "    image = tf.image.decode_png(buf.getvalue(), channels=4)\n",
    "    image = tf.expand_dims(image, 0)\n",
    "    return image\n",
    "\n",
    "\n",
    "def plot_confusion_matrix(cm):\n",
    "    '''\n",
    "    Plot a confusion matrix, given its values \n",
    "    '''\n",
    "    figure = plt.figure(figsize=(8, 8))\n",
    "    plt.imshow(cm.T, interpolation='nearest', cmap=plt.cm.Blues)\n",
    "    plt.title(\"Confusion Matrix\")\n",
    "    plt.colorbar()\n",
    "    plt.xticks([0, 1])\n",
    "    plt.yticks([0, 1])\n",
    "\n",
    "    # Use white text if squares are dark; otherwise black.\n",
    "    threshold = cm.max() / 2.\n",
    "    for i, j in itertools.product(range(cm.shape[1]), range(cm.shape[0])):\n",
    "        color = \"white\" if cm[i, j] > threshold else \"black\"\n",
    "        plt.text(j, i, cm[i, j], horizontalalignment=\"center\", color=color)\n",
    "\n",
    "    plt.tight_layout()\n",
    "    plt.xlabel('True Label')\n",
    "    plt.ylabel('Predicted Label')\n",
    "    return figure\n",
    "\n",
    "\n",
    "def log_confusion_matrix(y_true, y_pred, step):\n",
    "    '''\n",
    "    Compute the confusion matrix for a binary classification task and\n",
    "    log it to TensorBoard\n",
    "    '''\n",
    "    \n",
    "    # Compute the confusion matrix\n",
    "    cm = confusion_matrix(y_true, (y_pred > 0.5).numpy().astype(int))\n",
    "    \n",
    "    # Plot it\n",
    "    figure = plot_confusion_matrix(cm)\n",
    "    \n",
    "    # Convert it to an image\n",
    "    cm_image = plot_to_image(figure)\n",
    "\n",
    "    # Log this image to TensorBoard\n",
    "    with summary_writer.as_default():\n",
    "        tf.summary.image('Confusion Matrix', cm_image, step=step)"
   ]
  },
  {
   "cell_type": "markdown",
   "metadata": {},
   "source": [
    "We would use the last function like this training loop:\n",
    "\n",
    "```python\n",
    "# Dummy training loop\n",
    "for i, (x, y) in enumerate(x_train):\n",
    "\n",
    "    loss, acc = train_on_batch(x, y.reshape(-1, 1))\n",
    "\n",
    "    # Log the confusion matrix every 20 steps\n",
    "    if i % 20 == 0:  \n",
    "        y_hat = mlp(x)  # it would be better to modify 'train_on_batch' to\n",
    "                        # return y_hat instead of needing to recompute it\n",
    "        log_confusion_matrix(y, y_hat, i)\n",
    "\n",
    "    # Finish training after 100 steps\n",
    "    if i >= 100:\n",
    "        break\n",
    "```\n",
    "\n",
    "### Logging histograms\n",
    "\n",
    "In some cases where we want to debug or research our model's performance, we might want to visualize how training affects the distribution of some weight matrix, activation or gradient vector in the model. The best way to do this is through histograms.\n",
    "\n",
    "We will do this for the weights, gradients of the first Dense layer in our MLP."
   ]
  },
  {
   "cell_type": "code",
   "execution_count": 17,
   "metadata": {},
   "outputs": [],
   "source": [
    "def log_dense_layer_histograms(step, grads):\n",
    "    '''\n",
    "    Log weights and gradient of the first hidden layer of our MLP\n",
    "    '''\n",
    "    weights = mlp.layers[1].get_weights()[0]\n",
    "    grad = grads[0]\n",
    "    \n",
    "    with summary_writer.as_default():\n",
    "        tf.summary.histogram('Weights (1st hidden layer)', weights, step=step)\n",
    "        tf.summary.histogram('Gradient (1st hidden layer)', grad, step=step)"
   ]
  },
  {
   "cell_type": "markdown",
   "metadata": {},
   "source": [
    "This would be used in a similar way to the previous two in our training loop:\n",
    "\n",
    "```python\n",
    "# Dummy training loop\n",
    "for i, (x, y) in enumerate(x_train):\n",
    "\n",
    "    loss, acc = train_on_batch(x, y.reshape(-1, 1))\n",
    "\n",
    "    # Log the histograms every 10 steps\n",
    "    if i % 10 == 0:  \n",
    "        log_dense_layer_histograms(i, grad)\n",
    "\n",
    "    # Finish training after 100 steps\n",
    "    if i >= 100:\n",
    "        break\n",
    "```\n",
    "\n",
    "### Example training loop with logging\n",
    "\n",
    "Putting these previous use-cases together we can build a training loop that will log images, scalars and histograms. "
   ]
  },
  {
   "cell_type": "code",
   "execution_count": 18,
   "metadata": {},
   "outputs": [],
   "source": [
    "# Dummy training loop\n",
    "for i, (x, y) in enumerate(x_train):\n",
    "\n",
    "\n",
    "    lr = lr_schedule(i)                 # get new value of LR\n",
    "    optimizer.learning_rate.assign(lr)  # change optimizer's LR\n",
    "\n",
    "    loss, acc = train_on_batch(x, y.reshape(-1, 1))\n",
    "\n",
    "    \n",
    "    # Log the scalars\n",
    "    log_scalars(loss, acc, lr, i)  \n",
    "    \n",
    "    # Log the confusion matrix every 20 steps\n",
    "    if i % 20 == 0:  \n",
    "        y_hat = mlp(x)  # it would be better to modify 'train_on_batch' to\n",
    "                        # return y_hat instead of needing to recompute it\n",
    "        log_confusion_matrix(y, y_hat, i)\n",
    "\n",
    "    # Log the histograms every 10 steps\n",
    "    if i % 10 == 0:  \n",
    "        log_dense_layer_histograms(i, grads)\n",
    "\n",
    "    # Finish training after 100 steps\n",
    "    if i >= 100:\n",
    "        break"
   ]
  },
  {
   "cell_type": "code",
   "execution_count": 19,
   "metadata": {
    "scrolled": false
   },
   "outputs": [
    {
     "data": {
      "text/html": [
       "\n",
       "      <iframe id=\"tensorboard-frame-dd53ef700f0e2bd1\" width=\"100%\" height=\"800\" frameborder=\"0\">\n",
       "      </iframe>\n",
       "      <script>\n",
       "        (function() {\n",
       "          const frame = document.getElementById(\"tensorboard-frame-dd53ef700f0e2bd1\");\n",
       "          const url = new URL(\"/\", window.location);\n",
       "          const port = 6006;\n",
       "          if (port) {\n",
       "            url.port = port;\n",
       "          }\n",
       "          frame.src = url;\n",
       "        })();\n",
       "      </script>\n",
       "    "
      ],
      "text/plain": [
       "<IPython.core.display.HTML object>"
      ]
     },
     "metadata": {},
     "output_type": "display_data"
    }
   ],
   "source": [
    "%load_ext tensorboard\n",
    "%tensorboard --logdir logs"
   ]
  }
 ],
 "metadata": {
  "accelerator": "GPU",
  "colab": {
   "authorship_tag": "ABX9TyP87Qinm/KeQGB6t1IVYdvn",
   "collapsed_sections": [],
   "name": "01_tensors_and_low_level_ops.ipynb",
   "provenance": []
  },
  "kernelspec": {
   "display_name": "Python 3 (ipykernel)",
   "language": "python",
   "name": "python3"
  },
  "language_info": {
   "codemirror_mode": {
    "name": "ipython",
    "version": 3
   },
   "file_extension": ".py",
   "mimetype": "text/x-python",
   "name": "python",
   "nbconvert_exporter": "python",
   "pygments_lexer": "ipython3",
   "version": "3.9.13"
  }
 },
 "nbformat": 4,
 "nbformat_minor": 1
}
