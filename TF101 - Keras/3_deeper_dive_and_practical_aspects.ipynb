{
 "cells": [
  {
   "cell_type": "markdown",
   "id": "d43fe1a8",
   "metadata": {},
   "source": [
    "# 3. Deeper dive into model architectures and practical aspacts in training\n",
    "\n",
    "Now that we have a good understanding how the keras API works we'll mainly work on two things:\n",
    "\n",
    "1. Building more complex architectures.\n",
    "    - What happens if not all inputs are numerical?\n",
    "    - How can we use inputs of more than one data type?\n",
    "    - What are Embedding layers and how can they help us?\n",
    "2. Practical aspects regarding model training.\n",
    "    - What is the history callback and how can we use it?\n",
    "    - How can we visualize how our model is doing during training?\n",
    "3. Bonus practical aspects:  \n",
    "    - What is model calibration and how can we visualize it?\n",
    "    - How can we perform hyperparameter tuning?"
   ]
  },
  {
   "cell_type": "code",
   "execution_count": 1,
   "id": "f5d27ccf",
   "metadata": {},
   "outputs": [
    {
     "name": "stderr",
     "output_type": "stream",
     "text": [
      "2023-04-11 23:28:22.438471: I tensorflow/core/platform/cpu_feature_guard.cc:193] This TensorFlow binary is optimized with oneAPI Deep Neural Network Library (oneDNN) to use the following CPU instructions in performance-critical operations:  AVX2 FMA\n",
      "To enable them in other operations, rebuild TensorFlow with the appropriate compiler flags.\n",
      "2023-04-11 23:28:22.575606: W tensorflow/compiler/xla/stream_executor/platform/default/dso_loader.cc:64] Could not load dynamic library 'libcudart.so.11.0'; dlerror: libcudart.so.11.0: cannot open shared object file: No such file or directory\n",
      "2023-04-11 23:28:22.575622: I tensorflow/compiler/xla/stream_executor/cuda/cudart_stub.cc:29] Ignore above cudart dlerror if you do not have a GPU set up on your machine.\n",
      "2023-04-11 23:28:23.282894: W tensorflow/compiler/xla/stream_executor/platform/default/dso_loader.cc:64] Could not load dynamic library 'libnvinfer.so.7'; dlerror: libnvinfer.so.7: cannot open shared object file: No such file or directory\n",
      "2023-04-11 23:28:23.282954: W tensorflow/compiler/xla/stream_executor/platform/default/dso_loader.cc:64] Could not load dynamic library 'libnvinfer_plugin.so.7'; dlerror: libnvinfer_plugin.so.7: cannot open shared object file: No such file or directory\n",
      "2023-04-11 23:28:23.282962: W tensorflow/compiler/tf2tensorrt/utils/py_utils.cc:38] TF-TRT Warning: Cannot dlopen some TensorRT libraries. If you would like to use Nvidia GPU with TensorRT, please make sure the missing libraries mentioned above are installed properly.\n"
     ]
    }
   ],
   "source": [
    "import tensorflow as tf\n",
    "assert tf.__version__[0] == '2', 'this tutorial is for tensorflow versions of 2 or higher'\n",
    "\n",
    "import pandas as pd\n",
    "\n",
    "from sklearn.model_selection import train_test_split\n",
    "import matplotlib.pyplot as plt\n",
    "%matplotlib inline "
   ]
  },
  {
   "cell_type": "markdown",
   "id": "08a5e756",
   "metadata": {},
   "source": [
    "## Dataset\n",
    "\n",
    "To better demonstrate the topics that we want to discuss, we'll use a different dataset than the toy example we've seen up till now. The dataset is called *airlines_delay* and can be found in [Kaggle](https://www.kaggle.com/datasets/jimschacko/airlines-dataset-to-predict-a-delay). This dataset consists of 7 features (4 numerical, 3 string) and the goal of this dataset is to predict if a flight will be delayed (essentially a binary classification task)."
   ]
  },
  {
   "cell_type": "code",
   "execution_count": 2,
   "id": "5cd0a194",
   "metadata": {},
   "outputs": [
    {
     "data": {
      "text/html": [
       "<div>\n",
       "<style scoped>\n",
       "    .dataframe tbody tr th:only-of-type {\n",
       "        vertical-align: middle;\n",
       "    }\n",
       "\n",
       "    .dataframe tbody tr th {\n",
       "        vertical-align: top;\n",
       "    }\n",
       "\n",
       "    .dataframe thead th {\n",
       "        text-align: right;\n",
       "    }\n",
       "</style>\n",
       "<table border=\"1\" class=\"dataframe\">\n",
       "  <thead>\n",
       "    <tr style=\"text-align: right;\">\n",
       "      <th></th>\n",
       "      <th>Flight</th>\n",
       "      <th>Time</th>\n",
       "      <th>Length</th>\n",
       "      <th>Airline</th>\n",
       "      <th>AirportFrom</th>\n",
       "      <th>AirportTo</th>\n",
       "      <th>DayOfWeek</th>\n",
       "      <th>Class</th>\n",
       "    </tr>\n",
       "  </thead>\n",
       "  <tbody>\n",
       "    <tr>\n",
       "      <th>0</th>\n",
       "      <td>2313.0</td>\n",
       "      <td>1296.0</td>\n",
       "      <td>141.0</td>\n",
       "      <td>DL</td>\n",
       "      <td>ATL</td>\n",
       "      <td>HOU</td>\n",
       "      <td>1</td>\n",
       "      <td>0</td>\n",
       "    </tr>\n",
       "    <tr>\n",
       "      <th>1</th>\n",
       "      <td>6948.0</td>\n",
       "      <td>360.0</td>\n",
       "      <td>146.0</td>\n",
       "      <td>OO</td>\n",
       "      <td>COS</td>\n",
       "      <td>ORD</td>\n",
       "      <td>4</td>\n",
       "      <td>0</td>\n",
       "    </tr>\n",
       "    <tr>\n",
       "      <th>2</th>\n",
       "      <td>1247.0</td>\n",
       "      <td>1170.0</td>\n",
       "      <td>143.0</td>\n",
       "      <td>B6</td>\n",
       "      <td>BOS</td>\n",
       "      <td>CLT</td>\n",
       "      <td>3</td>\n",
       "      <td>0</td>\n",
       "    </tr>\n",
       "    <tr>\n",
       "      <th>3</th>\n",
       "      <td>31.0</td>\n",
       "      <td>1410.0</td>\n",
       "      <td>344.0</td>\n",
       "      <td>US</td>\n",
       "      <td>OGG</td>\n",
       "      <td>PHX</td>\n",
       "      <td>6</td>\n",
       "      <td>0</td>\n",
       "    </tr>\n",
       "    <tr>\n",
       "      <th>4</th>\n",
       "      <td>563.0</td>\n",
       "      <td>692.0</td>\n",
       "      <td>98.0</td>\n",
       "      <td>FL</td>\n",
       "      <td>BMI</td>\n",
       "      <td>ATL</td>\n",
       "      <td>4</td>\n",
       "      <td>0</td>\n",
       "    </tr>\n",
       "    <tr>\n",
       "      <th>...</th>\n",
       "      <td>...</td>\n",
       "      <td>...</td>\n",
       "      <td>...</td>\n",
       "      <td>...</td>\n",
       "      <td>...</td>\n",
       "      <td>...</td>\n",
       "      <td>...</td>\n",
       "      <td>...</td>\n",
       "    </tr>\n",
       "    <tr>\n",
       "      <th>539377</th>\n",
       "      <td>6973.0</td>\n",
       "      <td>530.0</td>\n",
       "      <td>72.0</td>\n",
       "      <td>OO</td>\n",
       "      <td>GEG</td>\n",
       "      <td>SEA</td>\n",
       "      <td>5</td>\n",
       "      <td>1</td>\n",
       "    </tr>\n",
       "    <tr>\n",
       "      <th>539378</th>\n",
       "      <td>1264.0</td>\n",
       "      <td>560.0</td>\n",
       "      <td>115.0</td>\n",
       "      <td>WN</td>\n",
       "      <td>LAS</td>\n",
       "      <td>DEN</td>\n",
       "      <td>4</td>\n",
       "      <td>1</td>\n",
       "    </tr>\n",
       "    <tr>\n",
       "      <th>539379</th>\n",
       "      <td>5209.0</td>\n",
       "      <td>827.0</td>\n",
       "      <td>74.0</td>\n",
       "      <td>EV</td>\n",
       "      <td>CAE</td>\n",
       "      <td>ATL</td>\n",
       "      <td>2</td>\n",
       "      <td>1</td>\n",
       "    </tr>\n",
       "    <tr>\n",
       "      <th>539380</th>\n",
       "      <td>607.0</td>\n",
       "      <td>715.0</td>\n",
       "      <td>65.0</td>\n",
       "      <td>WN</td>\n",
       "      <td>BWI</td>\n",
       "      <td>BUF</td>\n",
       "      <td>4</td>\n",
       "      <td>1</td>\n",
       "    </tr>\n",
       "    <tr>\n",
       "      <th>539381</th>\n",
       "      <td>6377.0</td>\n",
       "      <td>770.0</td>\n",
       "      <td>55.0</td>\n",
       "      <td>OO</td>\n",
       "      <td>CPR</td>\n",
       "      <td>DEN</td>\n",
       "      <td>2</td>\n",
       "      <td>1</td>\n",
       "    </tr>\n",
       "  </tbody>\n",
       "</table>\n",
       "<p>539382 rows × 8 columns</p>\n",
       "</div>"
      ],
      "text/plain": [
       "        Flight    Time  Length Airline AirportFrom AirportTo  DayOfWeek  Class\n",
       "0       2313.0  1296.0   141.0      DL         ATL       HOU          1      0\n",
       "1       6948.0   360.0   146.0      OO         COS       ORD          4      0\n",
       "2       1247.0  1170.0   143.0      B6         BOS       CLT          3      0\n",
       "3         31.0  1410.0   344.0      US         OGG       PHX          6      0\n",
       "4        563.0   692.0    98.0      FL         BMI       ATL          4      0\n",
       "...        ...     ...     ...     ...         ...       ...        ...    ...\n",
       "539377  6973.0   530.0    72.0      OO         GEG       SEA          5      1\n",
       "539378  1264.0   560.0   115.0      WN         LAS       DEN          4      1\n",
       "539379  5209.0   827.0    74.0      EV         CAE       ATL          2      1\n",
       "539380   607.0   715.0    65.0      WN         BWI       BUF          4      1\n",
       "539381  6377.0   770.0    55.0      OO         CPR       DEN          2      1\n",
       "\n",
       "[539382 rows x 8 columns]"
      ]
     },
     "execution_count": 2,
     "metadata": {},
     "output_type": "execute_result"
    }
   ],
   "source": [
    "data = pd.read_csv('../data/airlines_delay.csv')\n",
    "data"
   ]
  },
  {
   "cell_type": "markdown",
   "id": "2b3f316e",
   "metadata": {},
   "source": [
    "The thing that is going to give us the most trouble is the 3 categorical variables it has, `Airline`, `AirportFrom` and `AirportTo`."
   ]
  },
  {
   "cell_type": "code",
   "execution_count": 3,
   "id": "98132ef7",
   "metadata": {},
   "outputs": [
    {
     "name": "stdout",
     "output_type": "stream",
     "text": [
      "WN    94097\n",
      "DL    60940\n",
      "OO    50254\n",
      "AA    45656\n",
      "MQ    36604\n",
      "US    34500\n",
      "XE    31126\n",
      "EV    27983\n",
      "UA    27619\n",
      "CO    21118\n",
      "FL    20827\n",
      "9E    20686\n",
      "B6    18112\n",
      "YV    13725\n",
      "OH    12630\n",
      "AS    11471\n",
      "F9     6456\n",
      "HA     5578\n",
      "Name: Airline, dtype: int64 \n",
      "\n",
      "ATL    34449\n",
      "ORD    24822\n",
      "DFW    22153\n",
      "DEN    19843\n",
      "LAX    16657\n",
      "       ...  \n",
      "MMH       16\n",
      "SJT       15\n",
      "GUM       10\n",
      "ADK        9\n",
      "ABR        2\n",
      "Name: AirportFrom, Length: 293, dtype: int64 \n",
      "\n",
      "ATL    34440\n",
      "ORD    24871\n",
      "DFW    22153\n",
      "DEN    19848\n",
      "LAX    16656\n",
      "       ...  \n",
      "MMH       16\n",
      "SJT       15\n",
      "GUM       10\n",
      "ADK        9\n",
      "ABR        2\n",
      "Name: AirportTo, Length: 293, dtype: int64\n"
     ]
    }
   ],
   "source": [
    "print(data['Airline'].value_counts(), '\\n')\n",
    "print(data['AirportFrom'].value_counts(), '\\n')\n",
    "print(data['AirportTo'].value_counts())"
   ]
  },
  {
   "cell_type": "markdown",
   "id": "c12ddd1a",
   "metadata": {},
   "source": [
    "## Part 1: Deeper dive into model architectures\n",
    "\n",
    "### Attempt 1: Ignore categorical features\n",
    "\n",
    "For our first attempt we'll completely ignore these categorical features and only deal with the numerical features."
   ]
  },
  {
   "cell_type": "code",
   "execution_count": 4,
   "id": "ce2611dd",
   "metadata": {},
   "outputs": [],
   "source": [
    "X = data.drop(columns=['Airline', 'AirportFrom', 'AirportTo', 'Class'])\n",
    "y = data['Class']\n",
    "\n",
    "X_train, X_test, y_train, y_test = train_test_split(X, y, test_size=0.3)"
   ]
  },
  {
   "cell_type": "code",
   "execution_count": 5,
   "id": "879dcb2c",
   "metadata": {
    "scrolled": true
   },
   "outputs": [
    {
     "name": "stdout",
     "output_type": "stream",
     "text": [
      "Epoch 1/10\n"
     ]
    },
    {
     "name": "stderr",
     "output_type": "stream",
     "text": [
      "2023-04-11 23:28:25.192118: W tensorflow/compiler/xla/stream_executor/platform/default/dso_loader.cc:64] Could not load dynamic library 'libcuda.so.1'; dlerror: libcuda.so.1: cannot open shared object file: No such file or directory\n",
      "2023-04-11 23:28:25.192144: W tensorflow/compiler/xla/stream_executor/cuda/cuda_driver.cc:265] failed call to cuInit: UNKNOWN ERROR (303)\n",
      "2023-04-11 23:28:25.192190: I tensorflow/compiler/xla/stream_executor/cuda/cuda_diagnostics.cc:156] kernel driver does not appear to be running on this host (home): /proc/driver/nvidia/version does not exist\n",
      "2023-04-11 23:28:25.192480: I tensorflow/core/platform/cpu_feature_guard.cc:193] This TensorFlow binary is optimized with oneAPI Deep Neural Network Library (oneDNN) to use the following CPU instructions in performance-critical operations:  AVX2 FMA\n",
      "To enable them in other operations, rebuild TensorFlow with the appropriate compiler flags.\n"
     ]
    },
    {
     "name": "stdout",
     "output_type": "stream",
     "text": [
      "2950/2950 [==============================] - 8s 3ms/step - loss: 2.3445 - accuracy: 0.5180 - precision: 0.4589 - recall: 0.4567 - auc: 0.5164 - val_loss: 0.7498 - val_accuracy: 0.5649 - val_precision: 0.5222 - val_recall: 0.2688 - val_auc: 0.5617\n",
      "Epoch 2/10\n",
      "2950/2950 [==============================] - 7s 2ms/step - loss: 0.9715 - accuracy: 0.5311 - precision: 0.4717 - recall: 0.4376 - auc: 0.5283 - val_loss: 0.9063 - val_accuracy: 0.5585 - val_precision: 0.5753 - val_recall: 0.0315 - val_auc: 0.5613\n",
      "Epoch 3/10\n",
      "2950/2950 [==============================] - 7s 2ms/step - loss: 0.8336 - accuracy: 0.5406 - precision: 0.4824 - recall: 0.4261 - auc: 0.5390 - val_loss: 0.6839 - val_accuracy: 0.5503 - val_precision: 0.4913 - val_recall: 0.2880 - val_auc: 0.5606\n",
      "Epoch 4/10\n",
      "2950/2950 [==============================] - 7s 2ms/step - loss: 0.7400 - accuracy: 0.5509 - precision: 0.4951 - recall: 0.4070 - auc: 0.5499 - val_loss: 0.6779 - val_accuracy: 0.5709 - val_precision: 0.5729 - val_recall: 0.1424 - val_auc: 0.5892\n",
      "Epoch 5/10\n",
      "2950/2950 [==============================] - 7s 2ms/step - loss: 0.7027 - accuracy: 0.5598 - precision: 0.5079 - recall: 0.3873 - auc: 0.5636 - val_loss: 0.6895 - val_accuracy: 0.5666 - val_precision: 0.5725 - val_recall: 0.1044 - val_auc: 0.5824\n",
      "Epoch 6/10\n",
      "2950/2950 [==============================] - 7s 2ms/step - loss: 0.6865 - accuracy: 0.5672 - precision: 0.5202 - recall: 0.3686 - auc: 0.5762 - val_loss: 0.6740 - val_accuracy: 0.5771 - val_precision: 0.5304 - val_recall: 0.4383 - val_auc: 0.6023\n",
      "Epoch 7/10\n",
      "2950/2950 [==============================] - 7s 2ms/step - loss: 0.6762 - accuracy: 0.5743 - precision: 0.5369 - recall: 0.3240 - auc: 0.5898 - val_loss: 0.6755 - val_accuracy: 0.5692 - val_precision: 0.5649 - val_recall: 0.1412 - val_auc: 0.6021\n",
      "Epoch 8/10\n",
      "2950/2950 [==============================] - 7s 2ms/step - loss: 0.6751 - accuracy: 0.5736 - precision: 0.5365 - recall: 0.3152 - auc: 0.5929 - val_loss: 0.6751 - val_accuracy: 0.5796 - val_precision: 0.5332 - val_recall: 0.4472 - val_auc: 0.6010\n",
      "Epoch 9/10\n",
      "2950/2950 [==============================] - 7s 2ms/step - loss: 0.6747 - accuracy: 0.5734 - precision: 0.5360 - recall: 0.3161 - auc: 0.5950 - val_loss: 0.6736 - val_accuracy: 0.5747 - val_precision: 0.5326 - val_recall: 0.3656 - val_auc: 0.6023\n",
      "Epoch 10/10\n",
      "2950/2950 [==============================] - 7s 2ms/step - loss: 0.6740 - accuracy: 0.5746 - precision: 0.5376 - recall: 0.3226 - auc: 0.5969 - val_loss: 0.6736 - val_accuracy: 0.5705 - val_precision: 0.5528 - val_recall: 0.1854 - val_auc: 0.6025\n"
     ]
    },
    {
     "data": {
      "text/plain": [
       "<keras.callbacks.History at 0x7fe14bd48a90>"
      ]
     },
     "execution_count": 5,
     "metadata": {},
     "output_type": "execute_result"
    }
   ],
   "source": [
    "inp = tf.keras.layers.Input((4,))\n",
    "hid1 = tf.keras.layers.Dense(300, activation='relu')(inp)\n",
    "hid2 = tf.keras.layers.Dense(100, activation='relu')(hid1)\n",
    "out = tf.keras.layers.Dense(1, activation='sigmoid')(hid2)\n",
    "\n",
    "model = tf.keras.models.Model(inp, out)\n",
    "\n",
    "model.compile(optimizer='adam', loss='binary_crossentropy', metrics=['accuracy',\n",
    "                                                                     'Precision',  # for some reason \n",
    "                                                                     'Recall',     # these are \n",
    "                                                                     'AUC'])       # case sensitive\n",
    "\n",
    "model.fit(X_train, y_train, epochs=10, batch_size=128, validation_data=(X_test, y_test))"
   ]
  },
  {
   "cell_type": "code",
   "execution_count": 6,
   "id": "fccfd3b1",
   "metadata": {},
   "outputs": [
    {
     "name": "stdout",
     "output_type": "stream",
     "text": [
      "5057/5057 [==============================] - 6s 1ms/step - loss: 0.6736 - accuracy: 0.5705 - precision: 0.5528 - recall: 0.1854 - auc: 0.6025\n",
      "Loss      : 0.67\n",
      "Accuracy  : 0.57\n",
      "Precision : 0.55\n",
      "Recall    : 0.19\n",
      "AUC       : 0.60\n"
     ]
    }
   ],
   "source": [
    "metrics = ['Loss', 'Accuracy', 'Precision', 'Recall', 'AUC']\n",
    "\n",
    "results = model.evaluate(X_test, y_test)\n",
    "\n",
    "for name, value in zip(metrics, results):\n",
    "    print(f'{name:<10}: {value:.2f}')"
   ]
  },
  {
   "cell_type": "markdown",
   "id": "2e171af4",
   "metadata": {},
   "source": [
    "Arguably we're not great really great results in this setup. We could try to tune the architecture or other hyperparams like the learning rate more, but I don't think this would lead to a significant boost in performance. A much more promissing direction would be to try to incorporate the other features to the model.\n",
    "\n",
    "### Attempt 2: Embed categorical features\n",
    "\n",
    "We want to utilize the remaining features of the model, however these are in a form not understandable by our network, i.e. **categorical**. The most common way to deal with this issue is to **represent each catebory by a fixed length vector**. These vectors are called **embeddings** and are **fully trainable**. But how does this work?\n",
    "\n",
    "Before we begin, we need to define a **vocabulary size** (let's call this $V$) and an **embedding dim** (let's say this is $D$. The second is simply the size of each embedding (i.e. how many dims will the vector that represents each category have). The first shows how many categories will get their own, dedicated embedding. In features that don't have too many unique values, this is set to be the same as the cardinality of the feature (i.e. every unique value gets its own dedicated embedding). If the feature has too many unique values, only the $V$ most frequent categories will get their own embedding. The remaining will usually all be represented by a single embedding that we call OOV (i.e. out-of-vocabulary). Keras calls these two properites `input_dim` and `output_dim` respectively.\n",
    "\n",
    "Internally, a lookup table of dimensions $V \\times D$ is created, where each row refers to a category. All of these parameters are trainable! When the network sees a specific input, it looks up the $D$-dimensional embedding of that input and feeds it to the next layer. \n",
    "\n",
    "![](https://github.com/djib2011/tensorflow-training/blob/main/figures/embedding.png)\n",
    "\n",
    "In keras this is implemented through the [`Embedding`](https://keras.io/api/layers/core_layers/embedding/) layer. The embedding layer doesn't work by default on string inputs, though. They first need to be encoded as integers. For this purpose we will use the [`StringLookup`](https://www.tensorflow.org/api_docs/python/tf/keras/layers/StringLookup) layer.\n",
    "\n",
    "How can we use embeddings in our case, though?\n",
    "\n",
    "There are a few things to notice in our case:\n",
    "- We have very small vocabulary sizes. This means that we can have dedicated embeddings for the whole vocabulary$^1$\n",
    "- The two airport features have the same exact vocabulary, so we will use a single embedding table for both of these.\n",
    "- We have both numerical and categorical features we wan't to use. This means that we'll need to embed the categories (each feature separately) and then concatenate the embeddings with the numeric features. Let's say we use an embedding size of $3$ for the airline and $5$ for each of the airport features. The concatenated vector that will be fed to the dense layers will have $17$ dims: $3$ (Airline) $+5$ (AirportFrom) $+5$ (AirportTo) $+4$ (numeric) $=17$.\n",
    "\n",
    "$^1$ *Note: this isn't a good practive, as some categories that don't have many samples will not get many updates for their embeddings, leaving them undertrained. Because this requires tuning, though, we won't play with OOV embeddings at all.*"
   ]
  },
  {
   "cell_type": "code",
   "execution_count": 7,
   "id": "e04e21e8",
   "metadata": {},
   "outputs": [],
   "source": [
    "# Input for the 4 numeric features of the dataset\n",
    "numeric_inp = tf.keras.layers.Input((4,))  # shape --> (batch, 4)\n",
    "\n",
    "# Make separate inputs for the 3 categorical features\n",
    "airline_inp = tf.keras.layers.Input((1,), dtype=tf.string)\n",
    "airport_from_inp = tf.keras.layers.Input((1,), dtype=tf.string)\n",
    "airport_to_inp = tf.keras.layers.Input((1,), dtype=tf.string)\n",
    "\n",
    "# Create lookup tables mapping the strings to integers\n",
    "airline_look = tf.keras.layers.StringLookup(vocabulary=data['Airline'].unique())\n",
    "airport_look = tf.keras.layers.StringLookup(vocabulary=data['AirportTo'].unique())\n",
    "\n",
    "# Encode the 3 categorical features using the lookup tables\n",
    "airline_encoded = airline_look(airline_inp)\n",
    "airport_from_encoded = airport_look(airport_from_inp)\n",
    "airport_to_encoded = airport_look(airport_to_inp)\n",
    "\n",
    "# Create embedding tables for each of the 3 categorical features\n",
    "airline_emb = tf.keras.layers.Embedding(input_dim=len(data['Airline'].unique())+1,  \n",
    "                                        output_dim=3)  # the +1 is for the OOV embedding\n",
    "airport_emb = tf.keras.layers.Embedding(input_dim=len(data['AirportTo'].unique())+1,\n",
    "                                        output_dim=5)\n",
    "\n",
    "# Add the embeddings as layers after their respective inputs\n",
    "airline_vec = airline_emb(airline_encoded)            # shape --> (batch, 1, 3)\n",
    "airport_from_vec = airport_emb(airport_from_encoded)  # shape --> (batch, 1, 5)\n",
    "airport_to_vec = airport_emb(airport_to_encoded)      # shape --> (batch, 1, 5)\n",
    "\n",
    "# Flatten the embeddings, so that they can be concatenated with the numeric features\n",
    "airline_vec = tf.keras.layers.Flatten()(airline_vec)            # shape --> (batch, 3)\n",
    "airport_from_vec = tf.keras.layers.Flatten()(airport_from_vec)  # shape --> (batch, 5)\n",
    "airport_to_vec = tf.keras.layers.Flatten()(airport_to_vec)      # shape --> (batch, 5)\n",
    "\n",
    "# Concatenate the embeddings together with the numeric inputs\n",
    "concat = tf.keras.layers.Concatenate()([numeric_inp, airline_vec, airport_from_vec,\n",
    "                                        airport_to_vec])  # shape --> (batch, 17)\n",
    "\n",
    "# Add dense layers \n",
    "hid1 = tf.keras.layers.Dense(300, activation='relu')(concat)\n",
    "hid2 = tf.keras.layers.Dense(100, activation='relu')(hid1)\n",
    "out = tf.keras.layers.Dense(1, activation='sigmoid')(hid2)\n",
    "\n",
    "# Define model. We need to define all the inputs we used.\n",
    "# We'll do this as a dict to be more safe when passing the values during training\n",
    "model = tf.keras.models.Model(inputs={'numeric': numeric_inp,\n",
    "                                      'airline': airline_inp,\n",
    "                                      'airport_from': airport_from_inp,\n",
    "                                      'airport_to': airport_to_inp},\n",
    "                              outputs=out)\n",
    "\n",
    "# Compile and train the model\n",
    "model.compile(optimizer='adam', loss='binary_crossentropy', metrics=['accuracy', 'Precision',\n",
    "                                                                     'Recall', 'AUC'])"
   ]
  },
  {
   "cell_type": "markdown",
   "id": "cca9578d",
   "metadata": {},
   "source": [
    "A sketch of our model's architecture can be seen below.\n",
    "\n",
    "![Embedding model architecture](https://github.com/djib2011/tensorflow-training/blob/main/figures/airline_embeddings_architecture.png?raw=true)\n",
    "\n",
    "Let's prepare the dataset in the form that our model expects it."
   ]
  },
  {
   "cell_type": "code",
   "execution_count": 8,
   "id": "4b597126",
   "metadata": {},
   "outputs": [],
   "source": [
    "X = data.drop(columns=['Class'])\n",
    "y = data['Class']\n",
    "\n",
    "X_train, X_test, y_train, y_test = train_test_split(X, y, test_size=0.3)\n",
    "\n",
    "\n",
    "def convert_to_dict(df):\n",
    "    return {'numeric': df.drop(columns=['Airline', 'AirportFrom', 'AirportTo']).astype(float).values,\n",
    "            'airline': df['Airline'],\n",
    "            'airport_from': df['AirportFrom'],\n",
    "            'airport_to': df['AirportTo']}\n",
    "\n",
    "\n",
    "X_train = convert_to_dict(X_train)\n",
    "X_test = convert_to_dict(X_test)"
   ]
  },
  {
   "cell_type": "markdown",
   "id": "8712fae4",
   "metadata": {},
   "source": [
    "Train and evaluate our model."
   ]
  },
  {
   "cell_type": "code",
   "execution_count": 9,
   "id": "9d781a2c",
   "metadata": {
    "scrolled": false
   },
   "outputs": [
    {
     "name": "stdout",
     "output_type": "stream",
     "text": [
      "Epoch 1/10\n",
      "2950/2950 [==============================] - 28s 9ms/step - loss: 2.1763 - accuracy: 0.5621 - precision: 0.5084 - recall: 0.5056 - auc: 0.5602 - val_loss: 0.6649 - val_accuracy: 0.6234 - val_precision: 0.5869 - val_recall: 0.5225 - val_auc: 0.6586\n",
      "Epoch 2/10\n",
      "2950/2950 [==============================] - 26s 9ms/step - loss: 0.8667 - accuracy: 0.5956 - precision: 0.5490 - recall: 0.5163 - auc: 0.6086 - val_loss: 0.6492 - val_accuracy: 0.6220 - val_precision: 0.5686 - val_recall: 0.6285 - val_auc: 0.6770\n",
      "Epoch 3/10\n",
      "2950/2950 [==============================] - 26s 9ms/step - loss: 0.7173 - accuracy: 0.6145 - precision: 0.5748 - recall: 0.5165 - auc: 0.6377 - val_loss: 0.6402 - val_accuracy: 0.6371 - val_precision: 0.6514 - val_recall: 0.3991 - val_auc: 0.6771\n",
      "Epoch 4/10\n",
      "2950/2950 [==============================] - 25s 9ms/step - loss: 0.6646 - accuracy: 0.6252 - precision: 0.5928 - recall: 0.5061 - auc: 0.6559 - val_loss: 0.6288 - val_accuracy: 0.6452 - val_precision: 0.6534 - val_recall: 0.4337 - val_auc: 0.6907\n",
      "Epoch 5/10\n",
      "2950/2950 [==============================] - 25s 9ms/step - loss: 0.6422 - accuracy: 0.6329 - precision: 0.6103 - recall: 0.4863 - auc: 0.6700 - val_loss: 0.6393 - val_accuracy: 0.6296 - val_precision: 0.5749 - val_recall: 0.6476 - val_auc: 0.6889\n",
      "Epoch 6/10\n",
      "2950/2950 [==============================] - 25s 9ms/step - loss: 0.6348 - accuracy: 0.6381 - precision: 0.6245 - recall: 0.4704 - auc: 0.6780 - val_loss: 0.6359 - val_accuracy: 0.6322 - val_precision: 0.5883 - val_recall: 0.5820 - val_auc: 0.6862\n",
      "Epoch 7/10\n",
      "2950/2950 [==============================] - 25s 9ms/step - loss: 0.6332 - accuracy: 0.6397 - precision: 0.6277 - recall: 0.4697 - auc: 0.6809 - val_loss: 0.6295 - val_accuracy: 0.6411 - val_precision: 0.6141 - val_recall: 0.5236 - val_auc: 0.6892\n",
      "Epoch 8/10\n",
      "2950/2950 [==============================] - 25s 9ms/step - loss: 0.6312 - accuracy: 0.6417 - precision: 0.6331 - recall: 0.4647 - auc: 0.6844 - val_loss: 0.6345 - val_accuracy: 0.6365 - val_precision: 0.6128 - val_recall: 0.5002 - val_auc: 0.6805\n",
      "Epoch 9/10\n",
      "2950/2950 [==============================] - 25s 9ms/step - loss: 0.6295 - accuracy: 0.6430 - precision: 0.6402 - recall: 0.4532 - auc: 0.6866 - val_loss: 0.6254 - val_accuracy: 0.6467 - val_precision: 0.6392 - val_recall: 0.4755 - val_auc: 0.6934\n",
      "Epoch 10/10\n",
      "2950/2950 [==============================] - 26s 9ms/step - loss: 0.6286 - accuracy: 0.6436 - precision: 0.6437 - recall: 0.4478 - auc: 0.6882 - val_loss: 0.6265 - val_accuracy: 0.6466 - val_precision: 0.6262 - val_recall: 0.5133 - val_auc: 0.6939\n"
     ]
    }
   ],
   "source": [
    "hist = model.fit(X_train, y_train, epochs=10, batch_size=128, validation_data=(X_test, y_test))"
   ]
  },
  {
   "cell_type": "code",
   "execution_count": 10,
   "id": "d4fed216",
   "metadata": {},
   "outputs": [
    {
     "name": "stdout",
     "output_type": "stream",
     "text": [
      "5057/5057 [==============================] - 15s 3ms/step - loss: 0.6265 - accuracy: 0.6466 - precision: 0.6262 - recall: 0.5133 - auc: 0.6939\n",
      "Loss      : 0.63\n",
      "Accuracy  : 0.65\n",
      "Precision : 0.63\n",
      "Recall    : 0.51\n",
      "AUC       : 0.69\n"
     ]
    }
   ],
   "source": [
    "results = model.evaluate(X_test, y_test)\n",
    "\n",
    "for name, value in zip(metrics, results):\n",
    "    print(f'{name:<10}: {value:.2f}')"
   ]
  },
  {
   "cell_type": "markdown",
   "id": "25217ed4",
   "metadata": {},
   "source": [
    "By adding these categorical features we managed to improve the model's performance bit. By tuning parameters such as the embedding dim and the vocabulary size, we might get an even better performance out of our embeddings.\n",
    "\n",
    "## Part 1: Practical aspects regarding model training\n",
    "\n",
    "### History callback\n",
    "\n",
    "You might have noticed in the previous training that I assigned the output of `model.fit()` to a variable called `hist`. This is called the [History callback](https://www.tensorflow.org/api_docs/python/tf/keras/callbacks/History). This stores all information relevant to the model's training (i.e. the stuff that is printed on screen). This callback gives us access to this information, which we can use for analysis, visualizations, etc."
   ]
  },
  {
   "cell_type": "code",
   "execution_count": 11,
   "id": "cf55aa9a",
   "metadata": {},
   "outputs": [
    {
     "data": {
      "image/png": "[encoded data removed]",
      "text/plain": [
       "<Figure size 1000x700 with 4 Axes>"
      ]
     },
     "metadata": {},
     "output_type": "display_data"
    }
   ],
   "source": [
    "######################################################################\n",
    "############################## PLOTTING ##############################\n",
    "######################################################################\n",
    "\n",
    "plt.figure(figsize=(10, 7))\n",
    "\n",
    "def common_mod_axes(ax):\n",
    "    ax.set_xlabel('epoch')\n",
    "    ax.legend()\n",
    "    ax.spines['top'].set_visible(False)\n",
    "    ax.spines['right'].set_visible(False)\n",
    "\n",
    "ax = plt.subplot(221)\n",
    "ax.plot(range(1, 11), hist.history['loss'], label='train')\n",
    "ax.plot(range(1, 11), hist.history['val_loss'], ls='--', label='validation')\n",
    "ax.set_title('Loss')\n",
    "common_mod_axes(ax)\n",
    "\n",
    "ax = plt.subplot(222)\n",
    "ax.plot(range(1, 11), hist.history['accuracy'], label='train')\n",
    "ax.plot(range(1, 11), hist.history['val_accuracy'], ls='--', label='validation')\n",
    "ax.set_title('Accuracy')\n",
    "common_mod_axes(ax)\n",
    "\n",
    "ax = plt.subplot(223)\n",
    "ax.plot(range(1, 11), hist.history['precision'], color='C0', label='train precision')\n",
    "ax.plot(range(1, 11), hist.history['recall'], color='C2', label='train recall')\n",
    "ax.plot(range(1, 11), hist.history['val_precision'], color='C1', ls='--', label='val precision')\n",
    "ax.plot(range(1, 11), hist.history['val_recall'], color='C3', ls='--', label='val recall')\n",
    "ax.set_title('Precision/Recall')\n",
    "common_mod_axes(ax)\n",
    "\n",
    "ax = plt.subplot(224)\n",
    "ax.plot(range(1, 11), hist.history['auc'], label='train')\n",
    "ax.plot(range(1, 11), hist.history['val_auc'], ls='--', label='validation')\n",
    "ax.set_title('AUC')\n",
    "common_mod_axes(ax)\n",
    "\n",
    "plt.tight_layout()"
   ]
  },
  {
   "cell_type": "markdown",
   "id": "c1b216f1",
   "metadata": {},
   "source": [
    "The history callback provides an interesting look into how the model's performance improved through training. There are several situations where it would be very useful if we could have access to this information **during training**, e.g. we are running a long experiment and see if we want to end it prematurely. \n",
    "\n",
    "### TensorBoard\n",
    "\n",
    "TensorBoard is a UI through which we can visualize metrics, histograms, the model's graph (in terms of pure ops), interact with embedding projections, profile our models and more. It is an external service to TensorFlow that can either be run standalone or through the notebook. "
   ]
  },
  {
   "cell_type": "code",
   "execution_count": 12,
   "id": "fe2bca61",
   "metadata": {},
   "outputs": [],
   "source": [
    "# Load the TensorBoard notebook extension\n",
    "%load_ext tensorboard"
   ]
  },
  {
   "cell_type": "markdown",
   "id": "4df2110c",
   "metadata": {},
   "source": [
    "Let's continue the model's training for a few more epochs, but this time add the tensorboard callback. This doesn't affect the model's training, it just logs some stuff."
   ]
  },
  {
   "cell_type": "code",
   "execution_count": 13,
   "id": "57580682",
   "metadata": {},
   "outputs": [
    {
     "name": "stdout",
     "output_type": "stream",
     "text": [
      "Epoch 1/5\n",
      "2950/2950 [==============================] - 27s 9ms/step - loss: 0.6281 - accuracy: 0.6442 - precision: 0.6430 - recall: 0.4523 - auc: 0.6890 - val_loss: 0.6301 - val_accuracy: 0.6418 - val_precision: 0.6035 - val_recall: 0.5719 - val_auc: 0.6930\n",
      "Epoch 2/5\n",
      "2950/2950 [==============================] - 26s 9ms/step - loss: 0.6275 - accuracy: 0.6446 - precision: 0.6446 - recall: 0.4503 - auc: 0.6900 - val_loss: 0.6267 - val_accuracy: 0.6448 - val_precision: 0.6233 - val_recall: 0.5125 - val_auc: 0.6923\n",
      "Epoch 3/5\n",
      "2950/2950 [==============================] - 27s 9ms/step - loss: 0.6271 - accuracy: 0.6452 - precision: 0.6458 - recall: 0.4506 - auc: 0.6901 - val_loss: 0.6327 - val_accuracy: 0.6401 - val_precision: 0.5946 - val_recall: 0.6041 - val_auc: 0.6945\n",
      "Epoch 4/5\n",
      "2950/2950 [==============================] - 26s 9ms/step - loss: 0.6267 - accuracy: 0.6449 - precision: 0.6446 - recall: 0.4517 - auc: 0.6907 - val_loss: 0.6248 - val_accuracy: 0.6463 - val_precision: 0.6409 - val_recall: 0.4693 - val_auc: 0.6936\n",
      "Epoch 5/5\n",
      "2950/2950 [==============================] - 26s 9ms/step - loss: 0.6263 - accuracy: 0.6460 - precision: 0.6468 - recall: 0.4519 - auc: 0.6912 - val_loss: 0.6241 - val_accuracy: 0.6475 - val_precision: 0.6329 - val_recall: 0.4975 - val_auc: 0.6957\n"
     ]
    },
    {
     "data": {
      "text/plain": [
       "<keras.callbacks.History at 0x7fe14e20cd30>"
      ]
     },
     "execution_count": 13,
     "metadata": {},
     "output_type": "execute_result"
    }
   ],
   "source": [
    "model.fit(X_train, y_train, epochs=5, batch_size=128, validation_data=(X_test, y_test),\n",
    "          callbacks=[tf.keras.callbacks.TensorBoard(log_dir='logs')])"
   ]
  },
  {
   "cell_type": "markdown",
   "id": "fdb24697",
   "metadata": {},
   "source": [
    "The callback has created a coupe of log files (one for train and one for validation) under `logs/`."
   ]
  },
  {
   "cell_type": "code",
   "execution_count": 14,
   "id": "b7465653",
   "metadata": {},
   "outputs": [
    {
     "name": "stdout",
     "output_type": "stream",
     "text": [
      "logs/train:\r\n",
      "events.out.tfevents.1681245261.home.20765.0.v2\r\n",
      "\r\n",
      "logs/validation:\r\n",
      "events.out.tfevents.1681245283.home.20765.1.v2\r\n"
     ]
    }
   ],
   "source": [
    "!ls logs/*"
   ]
  },
  {
   "cell_type": "markdown",
   "id": "725b6ce1",
   "metadata": {},
   "source": [
    "These can be inspected through TensorBoard. We'll use the tensorboard magic command to load the UI in the notebook."
   ]
  },
  {
   "cell_type": "code",
   "execution_count": 23,
   "id": "3f4e54f9",
   "metadata": {},
   "outputs": [
    {
     "data": {
      "text/plain": [
       "Reusing TensorBoard on port 6006 (pid 21356), started 0:02:20 ago. (Use '!kill 21356' to kill it.)"
      ]
     },
     "metadata": {},
     "output_type": "display_data"
    },
    {
     "data": {
      "text/html": [
       "\n",
       "      <iframe id=\"tensorboard-frame-91bd59157e780eba\" width=\"100%\" height=\"800\" frameborder=\"0\">\n",
       "      </iframe>\n",
       "      <script>\n",
       "        (function() {\n",
       "          const frame = document.getElementById(\"tensorboard-frame-91bd59157e780eba\");\n",
       "          const url = new URL(\"/\", window.location);\n",
       "          const port = 6006;\n",
       "          if (port) {\n",
       "            url.port = port;\n",
       "          }\n",
       "          frame.src = url;\n",
       "        })();\n",
       "      </script>\n",
       "    "
      ],
      "text/plain": [
       "<IPython.core.display.HTML object>"
      ]
     },
     "metadata": {},
     "output_type": "display_data"
    }
   ],
   "source": [
    "%tensorboard --logdir logs"
   ]
  },
  {
   "cell_type": "markdown",
   "id": "7ae33c72",
   "metadata": {},
   "source": [
    "TensorBoard can also be launched independently from the notebook (which is aguably more useful) using the following command in any terminal:\n",
    "\n",
    "```\n",
    "tensorboard --logdir logs\n",
    "```\n",
    "\n",
    "Where `logs` is the path to your log directory. TensorBoard will launch its server (by default in `localhost:6006`) and will load all valid log files under the log dir. You can access the UI using any browser (usually it opens on its own).\n",
    "\n",
    "A deep dive into TensorBoard's various functionalities can be found [here](https://neptune.ai/blog/tensorboard-tutorial).\n",
    "\n",
    "\n",
    "## Part 3: Misc practical tips\n",
    "\n",
    "### Plotting a model's calibration curve\n",
    "\n",
    "Model calibration is a more advanced topic that we won't get into. In short, in models that output probabilities, a useful property we would like our model to have is: if it outputs a probability of $p$ for an outcome, we want this outcome to actually have a $p$ chance of occurring. E.g. if our model forecasts weather, out of all the times you said there was a $40%$ chance of rain, how often did rain actually occur? (If you're interested in a deeper dive in model calibration you can read [this blog](https://www.unofficialgoogledatascience.com/2021/04/why-model-calibration-matters-and-how.html)). \n",
    "\n",
    "What might interest us is plotting the model's calibration curve to see if it's predictions are calibrated or not. This can be done easily as follows."
   ]
  },
  {
   "cell_type": "code",
   "execution_count": 16,
   "id": "80bbd2f8",
   "metadata": {},
   "outputs": [
    {
     "name": "stdout",
     "output_type": "stream",
     "text": [
      "5057/5057 [==============================] - 15s 3ms/step\n"
     ]
    },
    {
     "data": {
      "text/plain": [
       "Text(0.5, 1.0, 'Calibration curve')"
      ]
     },
     "execution_count": 16,
     "metadata": {},
     "output_type": "execute_result"
    },
    {
     "data": {
      "image/png": "[encoded data removed]",
      "text/plain": [
       "<Figure size 640x480 with 1 Axes>"
      ]
     },
     "metadata": {},
     "output_type": "display_data"
    }
   ],
   "source": [
    "from sklearn.calibration import calibration_curve\n",
    "\n",
    "prob_true, prob_pred = calibration_curve(y_test, model.predict(X_test), n_bins=10)\n",
    "\n",
    "######################################################################\n",
    "############################## PLOTTING ##############################\n",
    "######################################################################\n",
    "\n",
    "plt.plot(prob_pred, prob_true, label='model calibration')\n",
    "plt.plot([0, 1], [0, 1], color='C0', ls='--', alpha=0.5, label='perfect calibration')\n",
    "plt.scatter(prob_pred, prob_true, c='C0')\n",
    "\n",
    "\n",
    "plt.legend()\n",
    "\n",
    "plt.xlabel('Predicted probability')\n",
    "plt.ylabel('Observed probability')\n",
    "\n",
    "plt.title('Calibration curve')"
   ]
  },
  {
   "cell_type": "markdown",
   "id": "b8f4d6a6",
   "metadata": {},
   "source": [
    "### Visualizing embeddings in TensorBoard\n",
    "\n",
    "Interesting insights and potential debuggging can be achieved by visualizing the embeddings to see the associations they have learned. This means that we will export the weights of an embedding table (remember these were essentially vectors describing each unique value of a certain feature), use a dimensionality reduction technique (e.g. PCA, t-SNE) to project these vectors to 3d and visualize them through TensorBoard. \n",
    "\n",
    "This can be done as follows."
   ]
  },
  {
   "cell_type": "code",
   "execution_count": 17,
   "id": "164d65fa",
   "metadata": {},
   "outputs": [],
   "source": [
    "from tensorboard.plugins import projector"
   ]
  },
  {
   "cell_type": "markdown",
   "id": "6ae142ae",
   "metadata": {},
   "source": [
    "Get the weights of the embedding table we want and export them as a TF checkpoint"
   ]
  },
  {
   "cell_type": "code",
   "execution_count": 18,
   "id": "622c858e",
   "metadata": {},
   "outputs": [
    {
     "data": {
      "text/plain": [
       "'logs/airlines/embedding.ckpt-1'"
      ]
     },
     "execution_count": 18,
     "metadata": {},
     "output_type": "execute_result"
    }
   ],
   "source": [
    "weights = tf.Variable(model.layers[6].get_weights()[0])  # Airport embedding table\n",
    "checkpoint = tf.train.Checkpoint(embedding=weights)\n",
    "checkpoint.save('logs/airlines/embedding.ckpt')"
   ]
  },
  {
   "cell_type": "markdown",
   "id": "552cc174",
   "metadata": {},
   "source": [
    "Write the metadata. We need because the embedding table works on integer inputs (we used a `StringLookup` to map the cateories to integers). With this the projector will assign the actual category names to the points."
   ]
  },
  {
   "cell_type": "code",
   "execution_count": 19,
   "id": "d5dc801d",
   "metadata": {},
   "outputs": [],
   "source": [
    "with open('logs/airlines/metadata.tsv', 'w') as f:\n",
    "    for airport in model.layers[4].get_vocabulary():\n",
    "        f.write(f'{airport}\\n')"
   ]
  },
  {
   "cell_type": "markdown",
   "id": "e534848d",
   "metadata": {},
   "source": [
    "Configure the projector."
   ]
  },
  {
   "cell_type": "code",
   "execution_count": 20,
   "id": "b645c550",
   "metadata": {},
   "outputs": [],
   "source": [
    "config = projector.ProjectorConfig()\n",
    "embedding = config.embeddings.add()\n",
    "embedding.tensor_name = 'embedding/.ATTRIBUTES/VARIABLE_VALUE'\n",
    "embedding.metadata_path = 'metadata.tsv'\n",
    "projector.visualize_embeddings('logs/airlines', config)"
   ]
  },
  {
   "cell_type": "markdown",
   "id": "677dca09",
   "metadata": {},
   "source": [
    "Lauch tensorboard again. You might need to kill the old TensorBoard process for this to work. Also sometimes you will need to refresh TensorBoard for the projector to appear (just run the cell below two times)."
   ]
  },
  {
   "cell_type": "code",
   "execution_count": 22,
   "id": "72938fed",
   "metadata": {
    "scrolled": false
   },
   "outputs": [
    {
     "data": {
      "text/plain": [
       "Reusing TensorBoard on port 6007 (pid 21469), started 0:01:48 ago. (Use '!kill 21469' to kill it.)"
      ]
     },
     "metadata": {},
     "output_type": "display_data"
    },
    {
     "data": {
      "text/html": [
       "\n",
       "      <iframe id=\"tensorboard-frame-ac9c92095b9b0229\" width=\"100%\" height=\"800\" frameborder=\"0\">\n",
       "      </iframe>\n",
       "      <script>\n",
       "        (function() {\n",
       "          const frame = document.getElementById(\"tensorboard-frame-ac9c92095b9b0229\");\n",
       "          const url = new URL(\"/\", window.location);\n",
       "          const port = 6007;\n",
       "          if (port) {\n",
       "            url.port = port;\n",
       "          }\n",
       "          frame.src = url;\n",
       "        })();\n",
       "      </script>\n",
       "    "
      ],
      "text/plain": [
       "<IPython.core.display.HTML object>"
      ]
     },
     "metadata": {},
     "output_type": "display_data"
    }
   ],
   "source": [
    "%tensorboard --logdir logs/airlines --port 6007"
   ]
  },
  {
   "cell_type": "markdown",
   "id": "af8114d3",
   "metadata": {},
   "source": [
    "### Extra resources\n",
    "\n",
    "- Hyperparameter tuning via a TensorBoard [plugin](https://www.tensorflow.org/tensorboard/hyperparameter_tuning_with_hparams).\n",
    "- Profiling in TensorBoard: \n",
    "[[1]](https://www.tensorflow.org/tensorboard/tensorboard_profiling_keras), \n",
    "[[2]](https://www.tensorflow.org/guide/profiler), \n",
    "[[3]](https://www.tensorflow.org/guide/gpu_performance_analysis). "
   ]
  }
 ],
 "metadata": {
  "kernelspec": {
   "display_name": "Python (tf-env)",
   "language": "python",
   "name": "tf-env"
  },
  "language_info": {
   "codemirror_mode": {
    "name": "ipython",
    "version": 3
   },
   "file_extension": ".py",
   "mimetype": "text/x-python",
   "name": "python",
   "nbconvert_exporter": "python",
   "pygments_lexer": "ipython3",
   "version": "3.9.13"
  }
 },
 "nbformat": 4,
 "nbformat_minor": 5
}
